{
 "cells": [
  {
   "cell_type": "code",
   "execution_count": 1,
   "metadata": {},
   "outputs": [],
   "source": [
    "import pandas as pd\n",
    "import seaborn as sns\n",
    "import matplotlib.pyplot as plt\n",
    "import numpy as np\n",
    "import re\n",
    "import joblib"
   ]
  },
  {
   "cell_type": "code",
   "execution_count": 2,
   "metadata": {},
   "outputs": [],
   "source": [
    "def load_data():\n",
    "  condo_df = pd.read_csv('../dataset/cleaned/bangkok-condo-dataset.csv')\n",
    "  return condo_df"
   ]
  },
  {
   "cell_type": "code",
   "execution_count": 3,
   "metadata": {},
   "outputs": [],
   "source": [
    "condo_df = load_data()"
   ]
  },
  {
   "cell_type": "code",
   "execution_count": 4,
   "metadata": {},
   "outputs": [
    {
     "data": {
      "text/plain": [
       "(1429, 20)"
      ]
     },
     "execution_count": 4,
     "metadata": {},
     "output_type": "execute_result"
    }
   ],
   "source": [
    "condo_df.shape"
   ]
  },
  {
   "cell_type": "code",
   "execution_count": 5,
   "metadata": {},
   "outputs": [
    {
     "data": {
      "text/html": [
       "<div>\n",
       "<style scoped>\n",
       "    .dataframe tbody tr th:only-of-type {\n",
       "        vertical-align: middle;\n",
       "    }\n",
       "\n",
       "    .dataframe tbody tr th {\n",
       "        vertical-align: top;\n",
       "    }\n",
       "\n",
       "    .dataframe thead th {\n",
       "        text-align: right;\n",
       "    }\n",
       "</style>\n",
       "<table border=\"1\" class=\"dataframe\">\n",
       "  <thead>\n",
       "    <tr style=\"text-align: right;\">\n",
       "      <th></th>\n",
       "      <th>ID</th>\n",
       "      <th>Condo_NAME_EN</th>\n",
       "      <th>Condo_NAME_TH</th>\n",
       "      <th>Condo_area</th>\n",
       "      <th>Condo_link</th>\n",
       "      <th>Address_TH</th>\n",
       "      <th>Year_built</th>\n",
       "      <th>Area_m2</th>\n",
       "      <th>#_Tower</th>\n",
       "      <th>#_Floor</th>\n",
       "      <th>Sale_Price_Sqm</th>\n",
       "      <th>Sale_Price_Increment[Quarter]</th>\n",
       "      <th>Sale_Price_Inc[Year]</th>\n",
       "      <th>Rental_Yield</th>\n",
       "      <th>Rental_Yield_Inc[Year]</th>\n",
       "      <th>Latitude</th>\n",
       "      <th>Longtitude</th>\n",
       "      <th>All_Data</th>\n",
       "      <th>MinDist_Station</th>\n",
       "      <th>Condo_Area_corr</th>\n",
       "    </tr>\n",
       "  </thead>\n",
       "  <tbody>\n",
       "    <tr>\n",
       "      <th>1424</th>\n",
       "      <td>1436</td>\n",
       "      <td>S.V. City Rama 3</td>\n",
       "      <td>เอส วี ซิตี้ พระราม 3</td>\n",
       "      <td>Yan Nawa</td>\n",
       "      <td>https://www.hipflat.co.th/projects/sv-city-ram...</td>\n",
       "      <td>900/1-36 พระรามที่ 3 แขวง บางโพงพาง เขต ยานนาวา</td>\n",
       "      <td>1995</td>\n",
       "      <td>NaN</td>\n",
       "      <td>7</td>\n",
       "      <td>36.0</td>\n",
       "      <td>69821</td>\n",
       "      <td>35.47</td>\n",
       "      <td>43.57</td>\n",
       "      <td>4.47</td>\n",
       "      <td>30.65</td>\n",
       "      <td>13.673454</td>\n",
       "      <td>100.542902</td>\n",
       "      <td>True</td>\n",
       "      <td>5573</td>\n",
       "      <td>Yan Nawa, Bangkok</td>\n",
       "    </tr>\n",
       "    <tr>\n",
       "      <th>1425</th>\n",
       "      <td>1437</td>\n",
       "      <td>LPN Tower</td>\n",
       "      <td>แอล พี เอ็น ทาวเวอร์</td>\n",
       "      <td>Yan Nawa</td>\n",
       "      <td>https://www.hipflat.co.th/projects/lpn-tower-a...</td>\n",
       "      <td>ซอย สามย่านซีฟู้ด แขวง ช่องนนทรี เขต ยานนาวา</td>\n",
       "      <td>1992</td>\n",
       "      <td>13,592</td>\n",
       "      <td>1</td>\n",
       "      <td>18.0</td>\n",
       "      <td>88805</td>\n",
       "      <td>0.00</td>\n",
       "      <td>-56.58</td>\n",
       "      <td>4.18</td>\n",
       "      <td>-59.82</td>\n",
       "      <td>13.704100</td>\n",
       "      <td>100.542168</td>\n",
       "      <td>True</td>\n",
       "      <td>2403</td>\n",
       "      <td>Yan Nawa, Bangkok</td>\n",
       "    </tr>\n",
       "    <tr>\n",
       "      <th>1426</th>\n",
       "      <td>1438</td>\n",
       "      <td>Modern Home Tower The Exclusive</td>\n",
       "      <td>โมเดอร์น โฮม ทาวเวอร์ ดิ เอ็กซคลูซีฟ</td>\n",
       "      <td>Yan Nawa</td>\n",
       "      <td>https://www.hipflat.co.th/projects/modern-home...</td>\n",
       "      <td>149 ซอย นนทรี 3 แขวง ช่องนนทรี เขต ยานนาวา</td>\n",
       "      <td>1997</td>\n",
       "      <td>22,451</td>\n",
       "      <td>1</td>\n",
       "      <td>32.0</td>\n",
       "      <td>70897</td>\n",
       "      <td>-3.65</td>\n",
       "      <td>31.70</td>\n",
       "      <td>6.19</td>\n",
       "      <td>71.03</td>\n",
       "      <td>13.697223</td>\n",
       "      <td>100.539625</td>\n",
       "      <td>True</td>\n",
       "      <td>3136</td>\n",
       "      <td>Yan Nawa, Bangkok</td>\n",
       "    </tr>\n",
       "    <tr>\n",
       "      <th>1427</th>\n",
       "      <td>1439</td>\n",
       "      <td>Pratunam Prestige</td>\n",
       "      <td>ประตูน้ำ เพรสตีจ</td>\n",
       "      <td>Ratchathewi</td>\n",
       "      <td>https://www.hipflat.co.th/projects/pratunam-pr...</td>\n",
       "      <td>651 ถนน เพชรบุรี แขวง ถนนพญาไท เขต ราชเทวี</td>\n",
       "      <td>1994</td>\n",
       "      <td>NaN</td>\n",
       "      <td>1</td>\n",
       "      <td>NaN</td>\n",
       "      <td>78880</td>\n",
       "      <td>0.00</td>\n",
       "      <td>-14.29</td>\n",
       "      <td>4.84</td>\n",
       "      <td>7.43</td>\n",
       "      <td>13.751542</td>\n",
       "      <td>100.536824</td>\n",
       "      <td>True</td>\n",
       "      <td>568</td>\n",
       "      <td>Ratchathewi, Bangkok</td>\n",
       "    </tr>\n",
       "    <tr>\n",
       "      <th>1428</th>\n",
       "      <td>1440</td>\n",
       "      <td>Indra Condominium</td>\n",
       "      <td>อินทรา คอนโดมิเนียม</td>\n",
       "      <td>Ratchathewi</td>\n",
       "      <td>https://www.hipflat.co.th/projects/indra-condo...</td>\n",
       "      <td>ซอย แขวง ถนนพญาไท เขต ราชเทวี</td>\n",
       "      <td>1984</td>\n",
       "      <td>13,921</td>\n",
       "      <td>1</td>\n",
       "      <td>NaN</td>\n",
       "      <td>61437</td>\n",
       "      <td>0.00</td>\n",
       "      <td>0.00</td>\n",
       "      <td>5.20</td>\n",
       "      <td>-21.99</td>\n",
       "      <td>13.753962</td>\n",
       "      <td>100.538626</td>\n",
       "      <td>True</td>\n",
       "      <td>614</td>\n",
       "      <td>Ratchathewi, Bangkok</td>\n",
       "    </tr>\n",
       "  </tbody>\n",
       "</table>\n",
       "</div>"
      ],
      "text/plain": [
       "        ID                    Condo_NAME_EN   \n",
       "1424  1436                 S.V. City Rama 3  \\\n",
       "1425  1437                        LPN Tower   \n",
       "1426  1438  Modern Home Tower The Exclusive   \n",
       "1427  1439                Pratunam Prestige   \n",
       "1428  1440                Indra Condominium   \n",
       "\n",
       "                             Condo_NAME_TH   Condo_area   \n",
       "1424                 เอส วี ซิตี้ พระราม 3     Yan Nawa  \\\n",
       "1425                  แอล พี เอ็น ทาวเวอร์     Yan Nawa   \n",
       "1426  โมเดอร์น โฮม ทาวเวอร์ ดิ เอ็กซคลูซีฟ     Yan Nawa   \n",
       "1427                      ประตูน้ำ เพรสตีจ  Ratchathewi   \n",
       "1428                   อินทรา คอนโดมิเนียม  Ratchathewi   \n",
       "\n",
       "                                             Condo_link   \n",
       "1424  https://www.hipflat.co.th/projects/sv-city-ram...  \\\n",
       "1425  https://www.hipflat.co.th/projects/lpn-tower-a...   \n",
       "1426  https://www.hipflat.co.th/projects/modern-home...   \n",
       "1427  https://www.hipflat.co.th/projects/pratunam-pr...   \n",
       "1428  https://www.hipflat.co.th/projects/indra-condo...   \n",
       "\n",
       "                                           Address_TH  Year_built Area_m2   \n",
       "1424  900/1-36 พระรามที่ 3 แขวง บางโพงพาง เขต ยานนาวา        1995     NaN  \\\n",
       "1425     ซอย สามย่านซีฟู้ด แขวง ช่องนนทรี เขต ยานนาวา        1992  13,592   \n",
       "1426       149 ซอย นนทรี 3 แขวง ช่องนนทรี เขต ยานนาวา        1997  22,451   \n",
       "1427       651 ถนน เพชรบุรี แขวง ถนนพญาไท เขต ราชเทวี        1994     NaN   \n",
       "1428                    ซอย แขวง ถนนพญาไท เขต ราชเทวี        1984  13,921   \n",
       "\n",
       "      #_Tower  #_Floor  Sale_Price_Sqm  Sale_Price_Increment[Quarter]   \n",
       "1424        7     36.0           69821                          35.47  \\\n",
       "1425        1     18.0           88805                           0.00   \n",
       "1426        1     32.0           70897                          -3.65   \n",
       "1427        1      NaN           78880                           0.00   \n",
       "1428        1      NaN           61437                           0.00   \n",
       "\n",
       "      Sale_Price_Inc[Year]  Rental_Yield  Rental_Yield_Inc[Year]   Latitude   \n",
       "1424                 43.57          4.47                   30.65  13.673454  \\\n",
       "1425                -56.58          4.18                  -59.82  13.704100   \n",
       "1426                 31.70          6.19                   71.03  13.697223   \n",
       "1427                -14.29          4.84                    7.43  13.751542   \n",
       "1428                  0.00          5.20                  -21.99  13.753962   \n",
       "\n",
       "      Longtitude  All_Data  MinDist_Station       Condo_Area_corr  \n",
       "1424  100.542902      True             5573     Yan Nawa, Bangkok  \n",
       "1425  100.542168      True             2403     Yan Nawa, Bangkok  \n",
       "1426  100.539625      True             3136     Yan Nawa, Bangkok  \n",
       "1427  100.536824      True              568  Ratchathewi, Bangkok  \n",
       "1428  100.538626      True              614  Ratchathewi, Bangkok  "
      ]
     },
     "execution_count": 5,
     "metadata": {},
     "output_type": "execute_result"
    }
   ],
   "source": [
    "condo_df = load_data()\n",
    "condo_df.tail(5)"
   ]
  },
  {
   "cell_type": "code",
   "execution_count": 6,
   "metadata": {},
   "outputs": [
    {
     "name": "stdout",
     "output_type": "stream",
     "text": [
      "<class 'pandas.core.frame.DataFrame'>\n",
      "RangeIndex: 1429 entries, 0 to 1428\n",
      "Data columns (total 20 columns):\n",
      " #   Column                         Non-Null Count  Dtype  \n",
      "---  ------                         --------------  -----  \n",
      " 0   ID                             1429 non-null   int64  \n",
      " 1   Condo_NAME_EN                  1429 non-null   object \n",
      " 2   Condo_NAME_TH                  1429 non-null   object \n",
      " 3   Condo_area                     1429 non-null   object \n",
      " 4   Condo_link                     1429 non-null   object \n",
      " 5   Address_TH                     1429 non-null   object \n",
      " 6   Year_built                     1429 non-null   int64  \n",
      " 7   Area_m2                        1028 non-null   object \n",
      " 8   #_Tower                        1429 non-null   int64  \n",
      " 9   #_Floor                        1427 non-null   float64\n",
      " 10  Sale_Price_Sqm                 1429 non-null   int64  \n",
      " 11  Sale_Price_Increment[Quarter]  1429 non-null   float64\n",
      " 12  Sale_Price_Inc[Year]           1410 non-null   float64\n",
      " 13  Rental_Yield                   1429 non-null   float64\n",
      " 14  Rental_Yield_Inc[Year]         1227 non-null   float64\n",
      " 15  Latitude                       1429 non-null   float64\n",
      " 16  Longtitude                     1429 non-null   float64\n",
      " 17  All_Data                       1429 non-null   bool   \n",
      " 18  MinDist_Station                1429 non-null   int64  \n",
      " 19  Condo_Area_corr                1429 non-null   object \n",
      "dtypes: bool(1), float64(7), int64(5), object(7)\n",
      "memory usage: 213.6+ KB\n"
     ]
    }
   ],
   "source": [
    "condo_df.info()"
   ]
  },
  {
   "cell_type": "code",
   "execution_count": 7,
   "metadata": {},
   "outputs": [
    {
     "data": {
      "text/plain": [
       "0         Bang Kapi, Bangkok\n",
       "1         Bang Kapi, Bangkok\n",
       "2         Bang Kapi, Bangkok\n",
       "3         Bang Kapi, Bangkok\n",
       "4         Bang Kapi, Bangkok\n",
       "                ...         \n",
       "1424       Yan Nawa, Bangkok\n",
       "1425       Yan Nawa, Bangkok\n",
       "1426       Yan Nawa, Bangkok\n",
       "1427    Ratchathewi, Bangkok\n",
       "1428    Ratchathewi, Bangkok\n",
       "Name: Condo_Area_corr, Length: 1429, dtype: object"
      ]
     },
     "execution_count": 7,
     "metadata": {},
     "output_type": "execute_result"
    }
   ],
   "source": [
    "condo_df['Condo_Area_corr']"
   ]
  },
  {
   "cell_type": "code",
   "execution_count": 8,
   "metadata": {},
   "outputs": [],
   "source": [
    "# Drop unsed columns\n",
    "\n",
    "cols = ['ID', 'Condo_NAME_EN', 'Condo_NAME_TH', 'Condo_link', 'All_Data', 'Condo_Area_corr']\n",
    "condo_df = condo_df.drop(cols, axis=1)"
   ]
  },
  {
   "cell_type": "code",
   "execution_count": 9,
   "metadata": {},
   "outputs": [
    {
     "data": {
      "text/plain": [
       "Condo_area                       0\n",
       "Address_TH                       0\n",
       "Year_built                       0\n",
       "Area_m2                          0\n",
       "#_Tower                          0\n",
       "#_Floor                          0\n",
       "Sale_Price_Sqm                   0\n",
       "Sale_Price_Increment[Quarter]    0\n",
       "Sale_Price_Inc[Year]             0\n",
       "Rental_Yield                     0\n",
       "Rental_Yield_Inc[Year]           0\n",
       "Latitude                         0\n",
       "Longtitude                       0\n",
       "MinDist_Station                  0\n",
       "dtype: int64"
      ]
     },
     "execution_count": 9,
     "metadata": {},
     "output_type": "execute_result"
    }
   ],
   "source": [
    "# Check missing value\n",
    "(condo_df == '').sum()"
   ]
  },
  {
   "cell_type": "code",
   "execution_count": 10,
   "metadata": {},
   "outputs": [],
   "source": [
    "condo_df = condo_df.applymap(lambda x: np.nan if x == '' else x)"
   ]
  },
  {
   "cell_type": "code",
   "execution_count": 11,
   "metadata": {},
   "outputs": [
    {
     "data": {
      "text/html": [
       "<div>\n",
       "<style scoped>\n",
       "    .dataframe tbody tr th:only-of-type {\n",
       "        vertical-align: middle;\n",
       "    }\n",
       "\n",
       "    .dataframe tbody tr th {\n",
       "        vertical-align: top;\n",
       "    }\n",
       "\n",
       "    .dataframe thead th {\n",
       "        text-align: right;\n",
       "    }\n",
       "</style>\n",
       "<table border=\"1\" class=\"dataframe\">\n",
       "  <thead>\n",
       "    <tr style=\"text-align: right;\">\n",
       "      <th></th>\n",
       "      <th>Condo_area</th>\n",
       "      <th>Address_TH</th>\n",
       "      <th>Year_built</th>\n",
       "      <th>Area_m2</th>\n",
       "      <th>#_Tower</th>\n",
       "      <th>#_Floor</th>\n",
       "    </tr>\n",
       "  </thead>\n",
       "  <tbody>\n",
       "    <tr>\n",
       "      <th>1427</th>\n",
       "      <td>Ratchathewi</td>\n",
       "      <td>651 ถนน เพชรบุรี แขวง ถนนพญาไท เขต ราชเทวี</td>\n",
       "      <td>1994</td>\n",
       "      <td>NaN</td>\n",
       "      <td>1</td>\n",
       "      <td>NaN</td>\n",
       "    </tr>\n",
       "    <tr>\n",
       "      <th>1428</th>\n",
       "      <td>Ratchathewi</td>\n",
       "      <td>ซอย แขวง ถนนพญาไท เขต ราชเทวี</td>\n",
       "      <td>1984</td>\n",
       "      <td>13,921</td>\n",
       "      <td>1</td>\n",
       "      <td>NaN</td>\n",
       "    </tr>\n",
       "  </tbody>\n",
       "</table>\n",
       "</div>"
      ],
      "text/plain": [
       "       Condo_area                                  Address_TH  Year_built   \n",
       "1427  Ratchathewi  651 ถนน เพชรบุรี แขวง ถนนพญาไท เขต ราชเทวี        1994  \\\n",
       "1428  Ratchathewi               ซอย แขวง ถนนพญาไท เขต ราชเทวี        1984   \n",
       "\n",
       "     Area_m2  #_Tower  #_Floor  \n",
       "1427     NaN        1      NaN  \n",
       "1428  13,921        1      NaN  "
      ]
     },
     "execution_count": 11,
     "metadata": {},
     "output_type": "execute_result"
    }
   ],
   "source": [
    "# The missing data for floor feature can be filled by hand\n",
    "\n",
    "condo_df.loc[condo_df['#_Floor'].isna(), :'#_Floor']"
   ]
  },
  {
   "cell_type": "code",
   "execution_count": 12,
   "metadata": {},
   "outputs": [
    {
     "data": {
      "text/html": [
       "<div>\n",
       "<style scoped>\n",
       "    .dataframe tbody tr th:only-of-type {\n",
       "        vertical-align: middle;\n",
       "    }\n",
       "\n",
       "    .dataframe tbody tr th {\n",
       "        vertical-align: top;\n",
       "    }\n",
       "\n",
       "    .dataframe thead th {\n",
       "        text-align: right;\n",
       "    }\n",
       "</style>\n",
       "<table border=\"1\" class=\"dataframe\">\n",
       "  <thead>\n",
       "    <tr style=\"text-align: right;\">\n",
       "      <th></th>\n",
       "      <th>Condo_area</th>\n",
       "      <th>Address_TH</th>\n",
       "      <th>Year_built</th>\n",
       "      <th>Area_m2</th>\n",
       "      <th>#_Tower</th>\n",
       "      <th>#_Floor</th>\n",
       "    </tr>\n",
       "  </thead>\n",
       "  <tbody>\n",
       "    <tr>\n",
       "      <th>1427</th>\n",
       "      <td>Ratchathewi</td>\n",
       "      <td>651 ถนน เพชรบุรี แขวง ถนนพญาไท เขต ราชเทวี</td>\n",
       "      <td>1994</td>\n",
       "      <td>NaN</td>\n",
       "      <td>1</td>\n",
       "      <td>27.0</td>\n",
       "    </tr>\n",
       "    <tr>\n",
       "      <th>1428</th>\n",
       "      <td>Ratchathewi</td>\n",
       "      <td>ซอย แขวง ถนนพญาไท เขต ราชเทวี</td>\n",
       "      <td>1984</td>\n",
       "      <td>13,921</td>\n",
       "      <td>1</td>\n",
       "      <td>5.0</td>\n",
       "    </tr>\n",
       "  </tbody>\n",
       "</table>\n",
       "</div>"
      ],
      "text/plain": [
       "       Condo_area                                  Address_TH  Year_built   \n",
       "1427  Ratchathewi  651 ถนน เพชรบุรี แขวง ถนนพญาไท เขต ราชเทวี        1994  \\\n",
       "1428  Ratchathewi               ซอย แขวง ถนนพญาไท เขต ราชเทวี        1984   \n",
       "\n",
       "     Area_m2  #_Tower  #_Floor  \n",
       "1427     NaN        1     27.0  \n",
       "1428  13,921        1      5.0  "
      ]
     },
     "execution_count": 12,
     "metadata": {},
     "output_type": "execute_result"
    }
   ],
   "source": [
    "condo_df.loc[1427, '#_Floor'] = 27\n",
    "condo_df.loc[1428, '#_Floor'] = 5\n",
    "condo_df.loc[[1427, 1428], :'#_Floor']"
   ]
  },
  {
   "cell_type": "code",
   "execution_count": 13,
   "metadata": {},
   "outputs": [
    {
     "data": {
      "image/png": "[encoded data removed]",
      "text/plain": [
       "<Figure size 500x1000 with 1 Axes>"
      ]
     },
     "metadata": {},
     "output_type": "display_data"
    }
   ],
   "source": [
    "# Boxplot Area_m2 (condo price per sqm)\n",
    "\n",
    "condo_df['Area_m2'] = condo_df['Area_m2'].str.replace(',', '')\n",
    "condo_df['Area_m2'] = condo_df['Area_m2'].fillna(-1).astype('int64').replace(-1, np.nan)\n",
    "\n",
    "plt.figure(figsize=(5,10))\n",
    "_, bp = condo_df.boxplot('Area_m2', return_type='both')"
   ]
  },
  {
   "cell_type": "code",
   "execution_count": 14,
   "metadata": {},
   "outputs": [],
   "source": [
    "# Q1 = condo_df['Area_m2'].quantile(0.25); # Q3 = condo_df['Area_m2'].quantile(0.75)\n",
    "# IQR = Q3-Q1\n",
    "# Outlier > Q3+1.5*IQR, Outlier < Q1-1.5*IQR\n",
    "\n",
    "outliers = [flier.get_ydata() for flier in bp[\"fliers\"]][0]\n",
    "boxes = [box.get_ydata() for box in bp[\"boxes\"]][0]\n",
    "medians = [median.get_ydata() for median in bp[\"medians\"]][0]\n",
    "whiskers = [whiskers.get_ydata() for whiskers in bp[\"whiskers\"]][0]"
   ]
  },
  {
   "cell_type": "code",
   "execution_count": 15,
   "metadata": {},
   "outputs": [
    {
     "data": {
      "text/plain": [
       "array([4342., 4342.])"
      ]
     },
     "execution_count": 15,
     "metadata": {},
     "output_type": "execute_result"
    }
   ],
   "source": [
    "medians"
   ]
  },
  {
   "cell_type": "code",
   "execution_count": 16,
   "metadata": {},
   "outputs": [
    {
     "data": {
      "image/png": "[encoded data removed]",
      "text/plain": [
       "<Figure size 1000x500 with 1 Axes>"
      ]
     },
     "metadata": {},
     "output_type": "display_data"
    }
   ],
   "source": [
    "# In which year that the outlier-condo were built?\n",
    "\n",
    "outlier_condo = condo_df[condo_df['Area_m2'] > min(outliers)]['Year_built'].value_counts().sort_index()\n",
    "plt.figure(figsize=(10,5))\n",
    "plt.title('Built by year')\n",
    "plt.xlabel('Year')\n",
    "plt.ylabel('frequency')\n",
    "ax = outlier_condo.plot.bar()\n",
    "for p in ax.patches:\n",
    "    ax.annotate(str(p.get_height()), (p.get_x() * 1.005, p.get_height() * 1.0025))"
   ]
  },
  {
   "cell_type": "code",
   "execution_count": 17,
   "metadata": {},
   "outputs": [
    {
     "data": {
      "image/png": "[encoded data removed]",
      "text/plain": [
       "<Figure size 1000x500 with 1 Axes>"
      ]
     },
     "metadata": {},
     "output_type": "display_data"
    }
   ],
   "source": [
    "# Distribution of Area_m2\n",
    "\n",
    "plt.figure(figsize=(10,5))\n",
    "plt.title('Histogram of Area_m2')\n",
    "plt.xlabel('Area_m2')\n",
    "ax = condo_df['Area_m2'].plot.hist(bins=30)\n"
   ]
  },
  {
   "cell_type": "code",
   "execution_count": 18,
   "metadata": {},
   "outputs": [
    {
     "data": {
      "image/png": "[encoded data removed]",
      "text/plain": [
       "<Figure size 1000x500 with 1 Axes>"
      ]
     },
     "metadata": {},
     "output_type": "display_data"
    }
   ],
   "source": [
    "# Distribution of Sale_Price_Inc[Year]\n",
    "\n",
    "plt.figure(figsize=(10,5))\n",
    "plt.title('Histogram of Sale_Price_Inc[Year]')\n",
    "plt.xlabel('Sale_Price_Inc[Year]')\n",
    "ax = condo_df['Sale_Price_Inc[Year]'].plot.hist(bins=50)"
   ]
  },
  {
   "cell_type": "code",
   "execution_count": 19,
   "metadata": {},
   "outputs": [],
   "source": [
    "# replace area_m2 and Sale_Price_Inc[Year] with median as the data are very skewed\n",
    "\n",
    "condo_df['Area_m2'] = condo_df['Area_m2'].fillna(condo_df['Area_m2'].median())\n",
    "condo_df['Sale_Price_Inc[Year]'] = condo_df['Sale_Price_Inc[Year]'].fillna(condo_df['Sale_Price_Inc[Year]'].median())"
   ]
  },
  {
   "cell_type": "code",
   "execution_count": 20,
   "metadata": {},
   "outputs": [],
   "source": [
    "# drop Rental_Yield_Inc[Year] as it has many missing value\n",
    "\n",
    "condo_df = condo_df.drop('Rental_Yield_Inc[Year]', axis=1)"
   ]
  },
  {
   "cell_type": "code",
   "execution_count": 21,
   "metadata": {},
   "outputs": [],
   "source": [
    "# add kind of condo\n",
    "\n",
    "condo_df['Kind'] = condo_df['#_Floor'].apply(lambda x: 'high rise' if x > 9 else 'low rise')"
   ]
  },
  {
   "cell_type": "code",
   "execution_count": 22,
   "metadata": {},
   "outputs": [
    {
     "data": {
      "text/plain": [
       "0                           ถนนเสรีไทย คลองจั่น บางกะปิ\n",
       "1            1486 ถนน พระราม 9 แขวง หัวหมาก เขต บางกะปิ\n",
       "2         84 ซอย รามคำแหง 43/1 แขวง หัวหมาก เขต บางกะปิ\n",
       "3          79 ถนน สุขาภิบาล 2 แขวง คลองจั่น เขต บางกะปิ\n",
       "4           99/224 ถนน หัวหมาก แขวง หัวหมาก เขต บางกะปิ\n",
       "                             ...                       \n",
       "1424    900/1-36 พระรามที่ 3 แขวง บางโพงพาง เขต ยานนาวา\n",
       "1425       ซอย สามย่านซีฟู้ด แขวง ช่องนนทรี เขต ยานนาวา\n",
       "1426         149 ซอย นนทรี 3 แขวง ช่องนนทรี เขต ยานนาวา\n",
       "1427         651 ถนน เพชรบุรี แขวง ถนนพญาไท เขต ราชเทวี\n",
       "1428                      ซอย แขวง ถนนพญาไท เขต ราชเทวี\n",
       "Name: Address_TH, Length: 1429, dtype: object"
      ]
     },
     "execution_count": 22,
     "metadata": {},
     "output_type": "execute_result"
    }
   ],
   "source": [
    "condo_df['Address_TH']"
   ]
  },
  {
   "cell_type": "code",
   "execution_count": 23,
   "metadata": {},
   "outputs": [],
   "source": [
    "a = condo_df['Address_TH'].apply(lambda x: re.findall(r'(ถนน\\s?[ก-๙]+\\s?\\d?)', x))"
   ]
  },
  {
   "cell_type": "code",
   "execution_count": 24,
   "metadata": {},
   "outputs": [
    {
     "data": {
      "text/plain": [
       "0                    [ถนนเสรีไทย ]\n",
       "1                   [ถนน พระราม 9]\n",
       "2                               []\n",
       "3                [ถนน สุขาภิบาล 2]\n",
       "4                   [ถนน หัวหมาก ]\n",
       "                   ...            \n",
       "1424                            []\n",
       "1425                            []\n",
       "1426                            []\n",
       "1427    [ถนน เพชรบุรี , ถนนพญาไท ]\n",
       "1428                   [ถนนพญาไท ]\n",
       "Name: Address_TH, Length: 1429, dtype: object"
      ]
     },
     "execution_count": 24,
     "metadata": {},
     "output_type": "execute_result"
    }
   ],
   "source": [
    "a"
   ]
  },
  {
   "cell_type": "code",
   "execution_count": 25,
   "metadata": {},
   "outputs": [],
   "source": [
    "# add road\n",
    "\n",
    "import re\n",
    "\n",
    "condo_df['Road'] = condo_df['Address_TH'].apply(lambda x: re.findall(r'(ถนน\\s?[ก-๙]+\\s?\\d?)', x))\n",
    "condo_df['Road'] = condo_df['Road'].apply(lambda x: x[0] if len(x)> 0 else np.nan)\n",
    "condo_df['Road'] = condo_df['Road'].str.replace(\" \", \"\").str.strip()\n",
    "condo_df['Road'] = condo_df['Road'].fillna(np.nan)\n",
    "condo_df = condo_df.drop('Address_TH', axis=1)"
   ]
  },
  {
   "cell_type": "code",
   "execution_count": 26,
   "metadata": {},
   "outputs": [
    {
     "data": {
      "text/plain": [
       "453"
      ]
     },
     "execution_count": 26,
     "metadata": {},
     "output_type": "execute_result"
    }
   ],
   "source": [
    "condo_df['Road'].value_counts().sum()"
   ]
  },
  {
   "cell_type": "code",
   "execution_count": 27,
   "metadata": {},
   "outputs": [
    {
     "data": {
      "text/plain": [
       "<Axes: >"
      ]
     },
     "execution_count": 27,
     "metadata": {},
     "output_type": "execute_result"
    },
    {
     "data": {
      "image/png": "[encoded data removed]",
      "text/plain": [
       "<Figure size 1100x900 with 2 Axes>"
      ]
     },
     "metadata": {},
     "output_type": "display_data"
    }
   ],
   "source": [
    "# Visualize the correlation between features\n",
    "\n",
    "correlation = round(condo_df.corr(numeric_only=True), 2)\n",
    "cmap = sns.diverging_palette(220, 10, as_cmap=True)\n",
    "plt.subplots(figsize=(11, 9))\n",
    "sns.heatmap(correlation, cmap=cmap, linewidths=.5, annot=True, vmin=-1)"
   ]
  },
  {
   "cell_type": "code",
   "execution_count": 28,
   "metadata": {},
   "outputs": [],
   "source": [
    "condo_df = condo_df.drop('Sale_Price_Inc[Year]', axis=1)\n",
    "condo_df = condo_df.drop('Sale_Price_Increment[Quarter]', axis=1)"
   ]
  },
  {
   "cell_type": "code",
   "execution_count": 29,
   "metadata": {},
   "outputs": [
    {
     "data": {
      "text/plain": [
       "<matplotlib.collections.PathCollection at 0x2829b4674d0>"
      ]
     },
     "execution_count": 29,
     "metadata": {},
     "output_type": "execute_result"
    },
    {
     "data": {
      "image/png": "[encoded data removed]",
      "text/plain": [
       "<Figure size 640x480 with 1 Axes>"
      ]
     },
     "metadata": {},
     "output_type": "display_data"
    }
   ],
   "source": [
    "from matplotlib import pyplot as plt\n",
    "plt.scatter(condo_df['Year_built'], condo_df['Sale_Price_Sqm'])"
   ]
  },
  {
   "cell_type": "code",
   "execution_count": 30,
   "metadata": {},
   "outputs": [
    {
     "data": {
      "text/plain": [
       "0          ถนนเสรีไทย\n",
       "1          ถนนพระราม9\n",
       "2                 NaN\n",
       "3       ถนนสุขาภิบาล2\n",
       "4          ถนนหัวหมาก\n",
       "            ...      \n",
       "1424              NaN\n",
       "1425              NaN\n",
       "1426              NaN\n",
       "1427      ถนนเพชรบุรี\n",
       "1428         ถนนพญาไท\n",
       "Name: Road, Length: 1429, dtype: object"
      ]
     },
     "execution_count": 30,
     "metadata": {},
     "output_type": "execute_result"
    }
   ],
   "source": [
    "condo_df['Road']"
   ]
  },
  {
   "cell_type": "code",
   "execution_count": 31,
   "metadata": {},
   "outputs": [
    {
     "data": {
      "text/html": [
       "<div>\n",
       "<style scoped>\n",
       "    .dataframe tbody tr th:only-of-type {\n",
       "        vertical-align: middle;\n",
       "    }\n",
       "\n",
       "    .dataframe tbody tr th {\n",
       "        vertical-align: top;\n",
       "    }\n",
       "\n",
       "    .dataframe thead th {\n",
       "        text-align: right;\n",
       "    }\n",
       "</style>\n",
       "<table border=\"1\" class=\"dataframe\">\n",
       "  <thead>\n",
       "    <tr style=\"text-align: right;\">\n",
       "      <th></th>\n",
       "      <th>Year_built</th>\n",
       "      <th>Area_m2</th>\n",
       "      <th>#_Tower</th>\n",
       "      <th>#_Floor</th>\n",
       "      <th>Sale_Price_Sqm</th>\n",
       "      <th>Rental_Yield</th>\n",
       "      <th>Latitude</th>\n",
       "      <th>Longtitude</th>\n",
       "      <th>MinDist_Station</th>\n",
       "      <th>Area__Bang Kapi</th>\n",
       "      <th>...</th>\n",
       "      <th>Road__ถนนเลียบคลองภาษีเจริญฝั่งใต้</th>\n",
       "      <th>Road__ถนนเลียบคลองเคล็ด</th>\n",
       "      <th>Road__ถนนเสนานิคม1</th>\n",
       "      <th>Road__ถนนเสรีไทย</th>\n",
       "      <th>Road__ถนนเอกมัย</th>\n",
       "      <th>Road__ถนนแจ้งวัฒนะ</th>\n",
       "      <th>Road__ถนนแบริ่ง</th>\n",
       "      <th>Road__ถนนโชคชัย4</th>\n",
       "      <th>Road__ถนนโยธา</th>\n",
       "      <th>Road__nan</th>\n",
       "    </tr>\n",
       "  </thead>\n",
       "  <tbody>\n",
       "    <tr>\n",
       "      <th>0</th>\n",
       "      <td>2011</td>\n",
       "      <td>6476.0</td>\n",
       "      <td>2</td>\n",
       "      <td>8.0</td>\n",
       "      <td>52065</td>\n",
       "      <td>4.86</td>\n",
       "      <td>13.766348</td>\n",
       "      <td>100.649395</td>\n",
       "      <td>8256</td>\n",
       "      <td>True</td>\n",
       "      <td>...</td>\n",
       "      <td>False</td>\n",
       "      <td>False</td>\n",
       "      <td>False</td>\n",
       "      <td>True</td>\n",
       "      <td>False</td>\n",
       "      <td>False</td>\n",
       "      <td>False</td>\n",
       "      <td>False</td>\n",
       "      <td>False</td>\n",
       "      <td>False</td>\n",
       "    </tr>\n",
       "    <tr>\n",
       "      <th>1</th>\n",
       "      <td>2014</td>\n",
       "      <td>4342.0</td>\n",
       "      <td>1</td>\n",
       "      <td>36.0</td>\n",
       "      <td>116682</td>\n",
       "      <td>0.00</td>\n",
       "      <td>13.746599</td>\n",
       "      <td>100.606029</td>\n",
       "      <td>3757</td>\n",
       "      <td>True</td>\n",
       "      <td>...</td>\n",
       "      <td>False</td>\n",
       "      <td>False</td>\n",
       "      <td>False</td>\n",
       "      <td>False</td>\n",
       "      <td>False</td>\n",
       "      <td>False</td>\n",
       "      <td>False</td>\n",
       "      <td>False</td>\n",
       "      <td>False</td>\n",
       "      <td>False</td>\n",
       "    </tr>\n",
       "    <tr>\n",
       "      <th>2</th>\n",
       "      <td>2006</td>\n",
       "      <td>4880.0</td>\n",
       "      <td>2</td>\n",
       "      <td>18.0</td>\n",
       "      <td>51000</td>\n",
       "      <td>5.81</td>\n",
       "      <td>13.758903</td>\n",
       "      <td>100.616998</td>\n",
       "      <td>5134</td>\n",
       "      <td>True</td>\n",
       "      <td>...</td>\n",
       "      <td>False</td>\n",
       "      <td>False</td>\n",
       "      <td>False</td>\n",
       "      <td>False</td>\n",
       "      <td>False</td>\n",
       "      <td>False</td>\n",
       "      <td>False</td>\n",
       "      <td>False</td>\n",
       "      <td>False</td>\n",
       "      <td>True</td>\n",
       "    </tr>\n",
       "    <tr>\n",
       "      <th>3</th>\n",
       "      <td>2001</td>\n",
       "      <td>4342.0</td>\n",
       "      <td>3</td>\n",
       "      <td>22.0</td>\n",
       "      <td>33600</td>\n",
       "      <td>6.75</td>\n",
       "      <td>13.767801</td>\n",
       "      <td>100.650655</td>\n",
       "      <td>8365</td>\n",
       "      <td>True</td>\n",
       "      <td>...</td>\n",
       "      <td>False</td>\n",
       "      <td>False</td>\n",
       "      <td>False</td>\n",
       "      <td>False</td>\n",
       "      <td>False</td>\n",
       "      <td>False</td>\n",
       "      <td>False</td>\n",
       "      <td>False</td>\n",
       "      <td>False</td>\n",
       "      <td>False</td>\n",
       "    </tr>\n",
       "    <tr>\n",
       "      <th>4</th>\n",
       "      <td>2013</td>\n",
       "      <td>5300.0</td>\n",
       "      <td>2</td>\n",
       "      <td>8.0</td>\n",
       "      <td>57080</td>\n",
       "      <td>6.37</td>\n",
       "      <td>13.751935</td>\n",
       "      <td>100.636527</td>\n",
       "      <td>6370</td>\n",
       "      <td>True</td>\n",
       "      <td>...</td>\n",
       "      <td>False</td>\n",
       "      <td>False</td>\n",
       "      <td>False</td>\n",
       "      <td>False</td>\n",
       "      <td>False</td>\n",
       "      <td>False</td>\n",
       "      <td>False</td>\n",
       "      <td>False</td>\n",
       "      <td>False</td>\n",
       "      <td>False</td>\n",
       "    </tr>\n",
       "  </tbody>\n",
       "</table>\n",
       "<p>5 rows × 182 columns</p>\n",
       "</div>"
      ],
      "text/plain": [
       "   Year_built  Area_m2  #_Tower  #_Floor  Sale_Price_Sqm  Rental_Yield   \n",
       "0        2011   6476.0        2      8.0           52065          4.86  \\\n",
       "1        2014   4342.0        1     36.0          116682          0.00   \n",
       "2        2006   4880.0        2     18.0           51000          5.81   \n",
       "3        2001   4342.0        3     22.0           33600          6.75   \n",
       "4        2013   5300.0        2      8.0           57080          6.37   \n",
       "\n",
       "    Latitude  Longtitude  MinDist_Station  Area__Bang Kapi  ...   \n",
       "0  13.766348  100.649395             8256             True  ...  \\\n",
       "1  13.746599  100.606029             3757             True  ...   \n",
       "2  13.758903  100.616998             5134             True  ...   \n",
       "3  13.767801  100.650655             8365             True  ...   \n",
       "4  13.751935  100.636527             6370             True  ...   \n",
       "\n",
       "   Road__ถนนเลียบคลองภาษีเจริญฝั่งใต้  Road__ถนนเลียบคลองเคล็ด   \n",
       "0                               False                    False  \\\n",
       "1                               False                    False   \n",
       "2                               False                    False   \n",
       "3                               False                    False   \n",
       "4                               False                    False   \n",
       "\n",
       "   Road__ถนนเสนานิคม1  Road__ถนนเสรีไทย  Road__ถนนเอกมัย  Road__ถนนแจ้งวัฒนะ   \n",
       "0               False              True            False               False  \\\n",
       "1               False             False            False               False   \n",
       "2               False             False            False               False   \n",
       "3               False             False            False               False   \n",
       "4               False             False            False               False   \n",
       "\n",
       "   Road__ถนนแบริ่ง  Road__ถนนโชคชัย4  Road__ถนนโยธา  Road__nan  \n",
       "0            False             False          False      False  \n",
       "1            False             False          False      False  \n",
       "2            False             False          False       True  \n",
       "3            False             False          False      False  \n",
       "4            False             False          False      False  \n",
       "\n",
       "[5 rows x 182 columns]"
      ]
     },
     "execution_count": 31,
     "metadata": {},
     "output_type": "execute_result"
    }
   ],
   "source": [
    "# Feature engineering using one hot encoding\n",
    "\n",
    "new_area = pd.get_dummies(condo_df['Condo_area'], dummy_na=True, prefix='Area_')\n",
    "new_kind = pd.get_dummies(condo_df['Kind'], dummy_na=True, prefix='Kind_')\n",
    "new_road = pd.get_dummies(condo_df['Road'], dummy_na=True, prefix='Road_')\n",
    "condo_df = pd.concat([condo_df, new_area, new_kind, new_road], axis = 1)\n",
    "\n",
    "condo_df = condo_df.drop('Condo_area', axis=1)\n",
    "condo_df = condo_df.drop('Kind', axis=1)\n",
    "condo_df = condo_df.drop('Road', axis=1)\n",
    "condo_df.head()"
   ]
  },
  {
   "cell_type": "code",
   "execution_count": 32,
   "metadata": {},
   "outputs": [],
   "source": [
    "# create function clean_data(df) to do all cleaning\n",
    "def clean_data(df):\n",
    "  \n",
    "  \n",
    "\n",
    "  #drop unused columns\n",
    "  cols = ['ID', 'Condo_NAME_EN', 'Condo_NAME_TH', 'Condo_link', 'All_Data', 'Condo_Area_corr']\n",
    "  clean_df = df.drop(cols, axis=1)\n",
    "\n",
    "  #replace '' with np.nan\n",
    "  clean_df = clean_df.applymap(lambda x: np.nan if x == '' else x)\n",
    "\n",
    "  #fill no.of Floor by hand\n",
    "  clean_df.loc[1427, '#_Floor'] = 27\n",
    "  clean_df.loc[1428, '#_Floor'] = 5\n",
    "\n",
    "  #clean Area_m2 columns\n",
    "  clean_df['Area_m2'] = clean_df['Area_m2'].str.replace(',', '')\n",
    "  clean_df['Area_m2'] = clean_df['Area_m2'].fillna(-1).astype('int64').replace(-1, np.nan)\n",
    "\n",
    "  #replace missing data with median as the data are very skewed\n",
    "  clean_df['Area_m2'] = clean_df['Area_m2'].fillna(clean_df['Area_m2'].median())\n",
    "  clean_df['Sale_Price_Inc[Year]'] = clean_df['Sale_Price_Inc[Year]'].fillna(clean_df['Sale_Price_Inc[Year]'].median())\n",
    "\n",
    "  #drop Rental_Yield_Inc[Year] as it has many missing value\n",
    "  clean_df = clean_df.drop('Rental_Yield_Inc[Year]', axis=1)\n",
    "\n",
    "  #add kind of condo [>9 floor: high rise, else: low rise]\n",
    "  clean_df['Kind'] = clean_df['#_Floor'].apply(lambda x: 'high rise' if x > 9 else 'low rise')\n",
    "\n",
    "  #add road feature\n",
    "  clean_df['Road'] = clean_df['Address_TH'].apply(lambda x: re.findall(r'(ถนน\\s?[\\u0E00-\\u0E7F]+\\s?\\d?)', x))\n",
    "  clean_df['Road'] = clean_df['Road'].apply(lambda x: x[0] if len(x)> 0 else np.nan)\n",
    "  clean_df['Road'] = clean_df['Road'].str.replace(\" \", \"\").str.strip()\n",
    "  clean_df['Road'] = clean_df['Road'].fillna(np.nan)\n",
    "  clean_df = clean_df.drop('Address_TH', axis=1)\n",
    "\n",
    "  #drop Sale_Price_Inc[Year], Sale_Price_Increment[Quarter]\n",
    "  clean_df = clean_df.drop('Sale_Price_Inc[Year]', axis=1)\n",
    "  clean_df = clean_df.drop('Sale_Price_Increment[Quarter]', axis=1)\n",
    "\n",
    "  #get_dummies\n",
    "  new_area = pd.get_dummies(clean_df['Condo_area'], dummy_na=True, prefix='Area_')\n",
    "  new_kind = pd.get_dummies(clean_df['Kind'], dummy_na=True, prefix='Kind_')\n",
    "  new_road = pd.get_dummies(clean_df['Road'], dummy_na=True, prefix='Road_')\n",
    "  clean_df = pd.concat([clean_df, new_area, new_kind, new_road], axis = 1)\n",
    "\n",
    "  clean_df = clean_df.drop('Condo_area', axis=1)\n",
    "  clean_df = clean_df.drop('Kind', axis=1)\n",
    "  clean_df = clean_df.drop('Road', axis=1)\n",
    "\n",
    "  return clean_df"
   ]
  },
  {
   "cell_type": "code",
   "execution_count": 33,
   "metadata": {},
   "outputs": [
    {
     "data": {
      "text/html": [
       "<div>\n",
       "<style scoped>\n",
       "    .dataframe tbody tr th:only-of-type {\n",
       "        vertical-align: middle;\n",
       "    }\n",
       "\n",
       "    .dataframe tbody tr th {\n",
       "        vertical-align: top;\n",
       "    }\n",
       "\n",
       "    .dataframe thead th {\n",
       "        text-align: right;\n",
       "    }\n",
       "</style>\n",
       "<table border=\"1\" class=\"dataframe\">\n",
       "  <thead>\n",
       "    <tr style=\"text-align: right;\">\n",
       "      <th></th>\n",
       "      <th>Year_built</th>\n",
       "      <th>Area_m2</th>\n",
       "      <th>#_Tower</th>\n",
       "      <th>#_Floor</th>\n",
       "      <th>Sale_Price_Sqm</th>\n",
       "      <th>Rental_Yield</th>\n",
       "      <th>Latitude</th>\n",
       "      <th>Longtitude</th>\n",
       "      <th>MinDist_Station</th>\n",
       "      <th>Area__Bang Kapi</th>\n",
       "      <th>...</th>\n",
       "      <th>Road__ถนนเลียบคลองภาษีเจริญฝั่งใต้</th>\n",
       "      <th>Road__ถนนเลียบคลองเคล็ด</th>\n",
       "      <th>Road__ถนนเสนานิคม1</th>\n",
       "      <th>Road__ถนนเสรีไทย</th>\n",
       "      <th>Road__ถนนเอกมัย</th>\n",
       "      <th>Road__ถนนแจ้งวัฒนะ</th>\n",
       "      <th>Road__ถนนแบริ่ง</th>\n",
       "      <th>Road__ถนนโชคชัย4</th>\n",
       "      <th>Road__ถนนโยธา</th>\n",
       "      <th>Road__nan</th>\n",
       "    </tr>\n",
       "  </thead>\n",
       "  <tbody>\n",
       "    <tr>\n",
       "      <th>0</th>\n",
       "      <td>2011</td>\n",
       "      <td>6476.0</td>\n",
       "      <td>2</td>\n",
       "      <td>8.0</td>\n",
       "      <td>52065</td>\n",
       "      <td>4.86</td>\n",
       "      <td>13.766348</td>\n",
       "      <td>100.649395</td>\n",
       "      <td>8256</td>\n",
       "      <td>True</td>\n",
       "      <td>...</td>\n",
       "      <td>False</td>\n",
       "      <td>False</td>\n",
       "      <td>False</td>\n",
       "      <td>True</td>\n",
       "      <td>False</td>\n",
       "      <td>False</td>\n",
       "      <td>False</td>\n",
       "      <td>False</td>\n",
       "      <td>False</td>\n",
       "      <td>False</td>\n",
       "    </tr>\n",
       "    <tr>\n",
       "      <th>1</th>\n",
       "      <td>2014</td>\n",
       "      <td>4342.0</td>\n",
       "      <td>1</td>\n",
       "      <td>36.0</td>\n",
       "      <td>116682</td>\n",
       "      <td>0.00</td>\n",
       "      <td>13.746599</td>\n",
       "      <td>100.606029</td>\n",
       "      <td>3757</td>\n",
       "      <td>True</td>\n",
       "      <td>...</td>\n",
       "      <td>False</td>\n",
       "      <td>False</td>\n",
       "      <td>False</td>\n",
       "      <td>False</td>\n",
       "      <td>False</td>\n",
       "      <td>False</td>\n",
       "      <td>False</td>\n",
       "      <td>False</td>\n",
       "      <td>False</td>\n",
       "      <td>False</td>\n",
       "    </tr>\n",
       "    <tr>\n",
       "      <th>2</th>\n",
       "      <td>2006</td>\n",
       "      <td>4880.0</td>\n",
       "      <td>2</td>\n",
       "      <td>18.0</td>\n",
       "      <td>51000</td>\n",
       "      <td>5.81</td>\n",
       "      <td>13.758903</td>\n",
       "      <td>100.616998</td>\n",
       "      <td>5134</td>\n",
       "      <td>True</td>\n",
       "      <td>...</td>\n",
       "      <td>False</td>\n",
       "      <td>False</td>\n",
       "      <td>False</td>\n",
       "      <td>False</td>\n",
       "      <td>False</td>\n",
       "      <td>False</td>\n",
       "      <td>False</td>\n",
       "      <td>False</td>\n",
       "      <td>False</td>\n",
       "      <td>True</td>\n",
       "    </tr>\n",
       "    <tr>\n",
       "      <th>3</th>\n",
       "      <td>2001</td>\n",
       "      <td>4342.0</td>\n",
       "      <td>3</td>\n",
       "      <td>22.0</td>\n",
       "      <td>33600</td>\n",
       "      <td>6.75</td>\n",
       "      <td>13.767801</td>\n",
       "      <td>100.650655</td>\n",
       "      <td>8365</td>\n",
       "      <td>True</td>\n",
       "      <td>...</td>\n",
       "      <td>False</td>\n",
       "      <td>False</td>\n",
       "      <td>False</td>\n",
       "      <td>False</td>\n",
       "      <td>False</td>\n",
       "      <td>False</td>\n",
       "      <td>False</td>\n",
       "      <td>False</td>\n",
       "      <td>False</td>\n",
       "      <td>False</td>\n",
       "    </tr>\n",
       "    <tr>\n",
       "      <th>4</th>\n",
       "      <td>2013</td>\n",
       "      <td>5300.0</td>\n",
       "      <td>2</td>\n",
       "      <td>8.0</td>\n",
       "      <td>57080</td>\n",
       "      <td>6.37</td>\n",
       "      <td>13.751935</td>\n",
       "      <td>100.636527</td>\n",
       "      <td>6370</td>\n",
       "      <td>True</td>\n",
       "      <td>...</td>\n",
       "      <td>False</td>\n",
       "      <td>False</td>\n",
       "      <td>False</td>\n",
       "      <td>False</td>\n",
       "      <td>False</td>\n",
       "      <td>False</td>\n",
       "      <td>False</td>\n",
       "      <td>False</td>\n",
       "      <td>False</td>\n",
       "      <td>False</td>\n",
       "    </tr>\n",
       "  </tbody>\n",
       "</table>\n",
       "<p>5 rows × 182 columns</p>\n",
       "</div>"
      ],
      "text/plain": [
       "   Year_built  Area_m2  #_Tower  #_Floor  Sale_Price_Sqm  Rental_Yield   \n",
       "0        2011   6476.0        2      8.0           52065          4.86  \\\n",
       "1        2014   4342.0        1     36.0          116682          0.00   \n",
       "2        2006   4880.0        2     18.0           51000          5.81   \n",
       "3        2001   4342.0        3     22.0           33600          6.75   \n",
       "4        2013   5300.0        2      8.0           57080          6.37   \n",
       "\n",
       "    Latitude  Longtitude  MinDist_Station  Area__Bang Kapi  ...   \n",
       "0  13.766348  100.649395             8256             True  ...  \\\n",
       "1  13.746599  100.606029             3757             True  ...   \n",
       "2  13.758903  100.616998             5134             True  ...   \n",
       "3  13.767801  100.650655             8365             True  ...   \n",
       "4  13.751935  100.636527             6370             True  ...   \n",
       "\n",
       "   Road__ถนนเลียบคลองภาษีเจริญฝั่งใต้  Road__ถนนเลียบคลองเคล็ด   \n",
       "0                               False                    False  \\\n",
       "1                               False                    False   \n",
       "2                               False                    False   \n",
       "3                               False                    False   \n",
       "4                               False                    False   \n",
       "\n",
       "   Road__ถนนเสนานิคม1  Road__ถนนเสรีไทย  Road__ถนนเอกมัย  Road__ถนนแจ้งวัฒนะ   \n",
       "0               False              True            False               False  \\\n",
       "1               False             False            False               False   \n",
       "2               False             False            False               False   \n",
       "3               False             False            False               False   \n",
       "4               False             False            False               False   \n",
       "\n",
       "   Road__ถนนแบริ่ง  Road__ถนนโชคชัย4  Road__ถนนโยธา  Road__nan  \n",
       "0            False             False          False      False  \n",
       "1            False             False          False      False  \n",
       "2            False             False          False       True  \n",
       "3            False             False          False      False  \n",
       "4            False             False          False      False  \n",
       "\n",
       "[5 rows x 182 columns]"
      ]
     },
     "execution_count": 33,
     "metadata": {},
     "output_type": "execute_result"
    }
   ],
   "source": [
    "#run clean_data function\n",
    "condo_df = load_data()\n",
    "clean_df = clean_data(condo_df)\n",
    "clean_df.head()"
   ]
  },
  {
   "cell_type": "code",
   "execution_count": 34,
   "metadata": {},
   "outputs": [],
   "source": [
    "y = condo_df['Sale_Price_Sqm'].values"
   ]
  },
  {
   "cell_type": "code",
   "execution_count": 35,
   "metadata": {},
   "outputs": [
    {
     "data": {
      "text/plain": [
       "array([ 52065, 116682,  51000, ...,  70897,  78880,  61437], dtype=int64)"
      ]
     },
     "execution_count": 35,
     "metadata": {},
     "output_type": "execute_result"
    }
   ],
   "source": [
    "y"
   ]
  },
  {
   "cell_type": "code",
   "execution_count": 36,
   "metadata": {},
   "outputs": [],
   "source": [
    "# create function to split, extract feature and scale\n",
    "from sklearn.model_selection import train_test_split\n",
    "from sklearn.preprocessing import MinMaxScaler\n",
    "\n",
    "def create_dataset(df, random_state=42):\n",
    "  y = df['Sale_Price_Sqm'].values\n",
    "  X = df.drop('Sale_Price_Sqm', axis=1).copy()\n",
    "  \n",
    "  # y = MinMaxScaler().fit_transform(y.values.reshape(-1,1)).ravel()\n",
    "  # y = MinMaxScaler().inverse_transform(y) to convert value back\n",
    "\n",
    "  X_train, X_test, y_train, y_test = train_test_split(X, y, test_size=0.2, random_state=random_state)\n",
    "  X_val, X_test, y_val, y_test = train_test_split(X_test, y_test, test_size=0.5, random_state=random_state)\n",
    "\n",
    "  # Minmax Scaler\n",
    "  scaler = MinMaxScaler()\n",
    "\n",
    "  # Fit scaler on training data and transform on other dataset to prevent information leakage\n",
    "  X_train = scaler.fit_transform(X_train)\n",
    "  X_val = scaler.transform(X_val)\n",
    "  X_test = scaler.transform(X_test)\n",
    "\n",
    "  return X_train, y_train, X_val, y_val, X_test, y_test, scaler"
   ]
  },
  {
   "cell_type": "code",
   "execution_count": 37,
   "metadata": {},
   "outputs": [
    {
     "name": "stdout",
     "output_type": "stream",
     "text": [
      "Train size: 1143\n",
      "Validation size: 143\n",
      "Test size: 143\n"
     ]
    }
   ],
   "source": [
    "X_train, y_train, X_val, y_val, X_test, y_test, scaler = create_dataset(clean_df)\n",
    "print(f\"Train size: {X_train.shape[0]}\")\n",
    "print(f\"Validation size: {X_val.shape[0]}\")\n",
    "print(f\"Test size: {X_test.shape[0]}\")"
   ]
  },
  {
   "cell_type": "code",
   "execution_count": 38,
   "metadata": {},
   "outputs": [
    {
     "data": {
      "text/plain": [
       "['data_scaler.joblib']"
      ]
     },
     "execution_count": 38,
     "metadata": {},
     "output_type": "execute_result"
    }
   ],
   "source": [
    "# scaler ไว้สำหรับใช้ใน heroku\n",
    "joblib.dump(scaler, \"data_scaler.joblib\")"
   ]
  },
  {
   "cell_type": "code",
   "execution_count": 39,
   "metadata": {},
   "outputs": [],
   "source": [
    "# create function to split, extract feature and scale \n",
    "# using StandardScaler\n",
    "from sklearn.model_selection import train_test_split\n",
    "from sklearn.preprocessing import MinMaxScaler\n",
    "from sklearn.metrics import mean_squared_error as mse\n",
    "from sklearn.preprocessing import StandardScaler\n",
    "\n",
    "def create_dataset_standard(df, random_state=42):\n",
    "  y = df['Sale_Price_Sqm'].values\n",
    "  X = df.drop('Sale_Price_Sqm', axis=1).copy()\n",
    "  \n",
    "  # y = MinMaxScaler().fit_transform(y.values.reshape(-1,1)).ravel()\n",
    "  # y = MinMaxScaler().inverse_transform(y) to convert value back\n",
    "\n",
    "  X_train, X_test, y_train, y_test = train_test_split(X, y, test_size=0.2, random_state=random_state)\n",
    "  X_val, X_test, y_val, y_test = train_test_split(X_test, y_test, test_size=0.5, random_state=random_state)\n",
    "\n",
    "  # Minmax Scaler\n",
    "  scaler = StandardScaler()\n",
    "\n",
    "  # Fit scaler on training data and transform on other dataset to prevent information leakage\n",
    "  # Scale only numerical data \n",
    "  num_cols = ['Year_built',\t'Area_m2',\t'#_Tower',\t'#_Floor',\t'Rental_Yield',\t'Latitude',\t'Longtitude',\t'MinDist_Station']\n",
    "  X_train = scaler.fit_transform(X_train[num_cols])\n",
    "  X_val = scaler.transform(X_val[num_cols])\n",
    "  X_test = scaler.transform(X_test[num_cols])\n",
    "\n",
    "  return X_train, y_train, X_val, y_val, X_test, y_test"
   ]
  },
  {
   "cell_type": "code",
   "execution_count": 40,
   "metadata": {},
   "outputs": [
    {
     "name": "stderr",
     "output_type": "stream",
     "text": [
      "C:\\Users\\brema\\AppData\\Local\\Temp\\ipykernel_25644\\1587211913.py:18: DeprecationWarning: `import kerastuner` is deprecated, please use `import keras_tuner`.\n",
      "  from kerastuner.tuners import RandomSearch\n"
     ]
    }
   ],
   "source": [
    "import matplotlib.pyplot as plt\n",
    "import numpy as np\n",
    "import pandas as pd\n",
    "from sklearn.model_selection import train_test_split\n",
    "from sklearn.model_selection import cross_val_score\n",
    "from sklearn.model_selection import KFold\n",
    "from sklearn.pipeline import Pipeline\n",
    "from sklearn.preprocessing import MinMaxScaler\n",
    "\n",
    "from tensorflow import keras\n",
    "import tensorflow as tf\n",
    "from tensorflow.keras.models import Sequential\n",
    "from tensorflow.python.keras.layers import Dense, Dropout\n",
    "# from tensorflow.python.keras.wrappers.scikit_learn import KerasRegressor\n",
    "from tensorflow.python.keras import backend as K\n",
    "from tensorflow.python.keras.losses import mean_squared_error\n",
    "from sklearn.model_selection import train_test_split\n",
    "from kerastuner.tuners import RandomSearch\n",
    "from kerastuner.engine.hyperparameters import HyperParameters\n",
    "import kerastuner as kt\n",
    "from keras import backend as K"
   ]
  },
  {
   "cell_type": "code",
   "execution_count": 41,
   "metadata": {},
   "outputs": [],
   "source": [
    "# create function for RMSE loss evaluation\n",
    "from sklearn.metrics import mean_squared_error as mse\n",
    "\n",
    "def root_mean_squared_error(y_true, y_pred): # for keras\n",
    "  result = K.sqrt(mean_squared_error(y_true, y_pred))\n",
    "  return result\n",
    "\n",
    "def rmse(y_true, y_pred): # for sklearn\n",
    "  result = mse(y_true, y_pred, squared=False)\n",
    "  return result"
   ]
  },
  {
   "cell_type": "code",
   "execution_count": 42,
   "metadata": {},
   "outputs": [
    {
     "name": "stdout",
     "output_type": "stream",
     "text": [
      "Model: \"sequential\"\n",
      "_________________________________________________________________\n",
      " Layer (type)                Output Shape              Param #   \n",
      "=================================================================\n",
      " module_wrapper (ModuleWrap  (1143, 60)                10920     \n",
      " per)                                                            \n",
      "                                                                 \n",
      " module_wrapper_1 (ModuleWr  (1143, 30)                1830      \n",
      " apper)                                                          \n",
      "                                                                 \n",
      " module_wrapper_2 (ModuleWr  (1143, 12)                372       \n",
      " apper)                                                          \n",
      "                                                                 \n",
      " module_wrapper_3 (ModuleWr  (1143, 8)                 104       \n",
      " apper)                                                          \n",
      "                                                                 \n",
      " module_wrapper_4 (ModuleWr  (1143, 1)                 9         \n",
      " apper)                                                          \n",
      "                                                                 \n",
      "=================================================================\n",
      "Total params: 13235 (51.70 KB)\n",
      "Trainable params: 13235 (51.70 KB)\n",
      "Non-trainable params: 0 (0.00 Byte)\n",
      "_________________________________________________________________\n"
     ]
    }
   ],
   "source": [
    "# Add NN model\n",
    "\n",
    "model = Sequential()\n",
    "model.add(Dense(60, input_dim=X_train.shape[1], kernel_initializer='normal', activation='relu'))\n",
    "#model.add(Dropout(0.25)) keep this for later optimization\n",
    "model.add(Dense(30, activation='relu'))\n",
    "#model.add(Dropout(0.25))\n",
    "model.add(Dense(12, activation='relu'))\n",
    "#model.add(Dropout(0.25))\n",
    "model.add(Dense(8, activation='relu'))\n",
    "#model.add(Dropout(0.5))\n",
    "model.add(Dense(1, activation='linear'))\n",
    "model.build(X_train.shape)\n",
    "model.summary()"
   ]
  },
  {
   "cell_type": "code",
   "execution_count": 43,
   "metadata": {},
   "outputs": [],
   "source": [
    "# Complile model\n",
    "\n",
    "model.compile(loss=root_mean_squared_error, optimizer='adam', metrics='mse')"
   ]
  },
  {
   "cell_type": "code",
   "execution_count": 44,
   "metadata": {},
   "outputs": [
    {
     "name": "stdout",
     "output_type": "stream",
     "text": [
      "Epoch 1/100\n"
     ]
    },
    {
     "name": "stderr",
     "output_type": "stream",
     "text": [
      "C:\\Users\\brema\\AppData\\Roaming\\Python\\Python311\\site-packages\\tensorflow\\python\\data\\ops\\structured_function.py:265: UserWarning: Even though the `tf.config.experimental_run_functions_eagerly` option is set, this option does not apply to tf.data functions. To force eager execution of tf.data functions, please use `tf.data.experimental.enable_debug_mode()`.\n",
      "  warnings.warn(\n"
     ]
    },
    {
     "name": "stdout",
     "output_type": "stream",
     "text": [
      "72/72 [==============================] - 3s 37ms/step - loss: 100886.9531 - mse: 13547911168.0000 - val_loss: 94237.6562 - val_mse: 11432418304.0000\n",
      "Epoch 2/100\n",
      "72/72 [==============================] - 2s 32ms/step - loss: 100823.7656 - mse: 13535091712.0000 - val_loss: 94058.8906 - val_mse: 11398326272.0000\n",
      "Epoch 3/100\n",
      "72/72 [==============================] - 2s 34ms/step - loss: 100267.8281 - mse: 13422176256.0000 - val_loss: 92883.6250 - val_mse: 11175889920.0000\n",
      "Epoch 4/100\n",
      "72/72 [==============================] - 2s 33ms/step - loss: 97730.3125 - mse: 12923207680.0000 - val_loss: 88438.8906 - val_mse: 10360167424.0000\n",
      "Epoch 5/100\n",
      "72/72 [==============================] - 2s 33ms/step - loss: 89885.4062 - mse: 11456924672.0000 - val_loss: 76290.7500 - val_mse: 8327002112.0000\n",
      "Epoch 6/100\n",
      "72/72 [==============================] - 2s 33ms/step - loss: 72192.4062 - mse: 8436116992.0000 - val_loss: 54940.6484 - val_mse: 5047807488.0000\n",
      "Epoch 7/100\n",
      "72/72 [==============================] - 2s 33ms/step - loss: 49538.0742 - mse: 5003575808.0000 - val_loss: 37183.5000 - val_mse: 2695081728.0000\n",
      "Epoch 8/100\n",
      "72/72 [==============================] - 2s 34ms/step - loss: 40406.1641 - mse: 3486864384.0000 - val_loss: 35475.2188 - val_mse: 2287375616.0000\n",
      "Epoch 9/100\n",
      "72/72 [==============================] - 2s 33ms/step - loss: 38997.2188 - mse: 3221673472.0000 - val_loss: 34708.3164 - val_mse: 2169730304.0000\n",
      "Epoch 10/100\n",
      "72/72 [==============================] - 2s 34ms/step - loss: 38099.3711 - mse: 3108044544.0000 - val_loss: 34033.4062 - val_mse: 2079478784.0000\n",
      "Epoch 11/100\n",
      "72/72 [==============================] - 2s 32ms/step - loss: 37242.4062 - mse: 2991364352.0000 - val_loss: 33380.2891 - val_mse: 1990632192.0000\n",
      "Epoch 12/100\n",
      "72/72 [==============================] - 2s 33ms/step - loss: 36491.4297 - mse: 2892037888.0000 - val_loss: 32695.5000 - val_mse: 1931868800.0000\n",
      "Epoch 13/100\n",
      "72/72 [==============================] - 2s 34ms/step - loss: 35814.7305 - mse: 2836657920.0000 - val_loss: 32151.0137 - val_mse: 1856467584.0000\n",
      "Epoch 14/100\n",
      "72/72 [==============================] - 2s 32ms/step - loss: 35161.9453 - mse: 2760945152.0000 - val_loss: 31741.7754 - val_mse: 1784161792.0000\n",
      "Epoch 15/100\n",
      "72/72 [==============================] - 2s 33ms/step - loss: 34583.6523 - mse: 2664444672.0000 - val_loss: 31153.9414 - val_mse: 1737696128.0000\n",
      "Epoch 16/100\n",
      "72/72 [==============================] - 2s 33ms/step - loss: 34032.3633 - mse: 2626864128.0000 - val_loss: 30845.0762 - val_mse: 1670325376.0000\n",
      "Epoch 17/100\n",
      "72/72 [==============================] - 3s 35ms/step - loss: 33560.4375 - mse: 2537099008.0000 - val_loss: 30401.9023 - val_mse: 1620526720.0000\n",
      "Epoch 18/100\n",
      "72/72 [==============================] - 3s 41ms/step - loss: 33079.8672 - mse: 2489968128.0000 - val_loss: 29825.7695 - val_mse: 1589848832.0000\n",
      "Epoch 19/100\n",
      "72/72 [==============================] - 3s 37ms/step - loss: 32596.0938 - mse: 2428364288.0000 - val_loss: 29402.5137 - val_mse: 1558579712.0000\n",
      "Epoch 20/100\n",
      "72/72 [==============================] - 3s 39ms/step - loss: 32140.2910 - mse: 2380607232.0000 - val_loss: 29056.6328 - val_mse: 1510846976.0000\n",
      "Epoch 21/100\n",
      "72/72 [==============================] - 3s 39ms/step - loss: 31732.9805 - mse: 2339321088.0000 - val_loss: 28657.7422 - val_mse: 1485501952.0000\n",
      "Epoch 22/100\n",
      "72/72 [==============================] - 3s 44ms/step - loss: 31272.6895 - mse: 2295374592.0000 - val_loss: 28479.6113 - val_mse: 1420666752.0000\n",
      "Epoch 23/100\n",
      "72/72 [==============================] - 3s 43ms/step - loss: 30913.6562 - mse: 2241554944.0000 - val_loss: 28122.7617 - val_mse: 1397005952.0000\n",
      "Epoch 24/100\n",
      "72/72 [==============================] - 2s 32ms/step - loss: 30510.3066 - mse: 2199206144.0000 - val_loss: 27777.5840 - val_mse: 1366818816.0000\n",
      "Epoch 25/100\n",
      "72/72 [==============================] - 2s 33ms/step - loss: 30113.9941 - mse: 2135298944.0000 - val_loss: 27391.4121 - val_mse: 1349080960.0000\n",
      "Epoch 26/100\n",
      "72/72 [==============================] - 2s 33ms/step - loss: 29711.1211 - mse: 2129250816.0000 - val_loss: 27162.7539 - val_mse: 1298126592.0000\n",
      "Epoch 27/100\n",
      "72/72 [==============================] - 2s 32ms/step - loss: 29328.8145 - mse: 2057391616.0000 - val_loss: 26786.5000 - val_mse: 1281346816.0000\n",
      "Epoch 28/100\n",
      "72/72 [==============================] - 2s 35ms/step - loss: 28986.3496 - mse: 2034724992.0000 - val_loss: 26555.7754 - val_mse: 1240411392.0000\n",
      "Epoch 29/100\n",
      "72/72 [==============================] - 2s 34ms/step - loss: 28601.1348 - mse: 1982017792.0000 - val_loss: 26174.7734 - val_mse: 1230208512.0000\n",
      "Epoch 30/100\n",
      "72/72 [==============================] - 2s 34ms/step - loss: 28245.5020 - mse: 1949090816.0000 - val_loss: 25899.2754 - val_mse: 1197478528.0000\n",
      "Epoch 31/100\n",
      "72/72 [==============================] - 3s 35ms/step - loss: 27907.6484 - mse: 1917743360.0000 - val_loss: 25624.5801 - val_mse: 1184634240.0000\n",
      "Epoch 32/100\n",
      "72/72 [==============================] - 3s 35ms/step - loss: 27600.3203 - mse: 1883085312.0000 - val_loss: 25376.4453 - val_mse: 1168280448.0000\n",
      "Epoch 33/100\n",
      "72/72 [==============================] - 2s 33ms/step - loss: 27269.1445 - mse: 1856440448.0000 - val_loss: 25143.1758 - val_mse: 1141380864.0000\n",
      "Epoch 34/100\n",
      "72/72 [==============================] - 3s 35ms/step - loss: 26972.4902 - mse: 1824952832.0000 - val_loss: 24932.5781 - val_mse: 1131446144.0000\n",
      "Epoch 35/100\n",
      "72/72 [==============================] - 2s 32ms/step - loss: 26681.8066 - mse: 1798452608.0000 - val_loss: 24756.7812 - val_mse: 1106339456.0000\n",
      "Epoch 36/100\n",
      "72/72 [==============================] - 2s 32ms/step - loss: 26443.9512 - mse: 1785788288.0000 - val_loss: 24604.6641 - val_mse: 1091244288.0000\n",
      "Epoch 37/100\n",
      "72/72 [==============================] - 3s 35ms/step - loss: 26195.0469 - mse: 1754558336.0000 - val_loss: 24481.6172 - val_mse: 1074795136.0000\n",
      "Epoch 38/100\n",
      "72/72 [==============================] - 2s 32ms/step - loss: 25922.6895 - mse: 1736106496.0000 - val_loss: 24249.6465 - val_mse: 1073399040.0000\n",
      "Epoch 39/100\n",
      "72/72 [==============================] - 2s 33ms/step - loss: 25673.3438 - mse: 1709426176.0000 - val_loss: 24092.3750 - val_mse: 1064860096.0000\n",
      "Epoch 40/100\n",
      "72/72 [==============================] - 2s 32ms/step - loss: 25459.3145 - mse: 1692357248.0000 - val_loss: 23962.7441 - val_mse: 1054072000.0000\n",
      "Epoch 41/100\n",
      "72/72 [==============================] - 2s 33ms/step - loss: 25247.4941 - mse: 1678540160.0000 - val_loss: 23834.3203 - val_mse: 1045103488.0000\n",
      "Epoch 42/100\n",
      "72/72 [==============================] - 2s 32ms/step - loss: 25100.1602 - mse: 1661148288.0000 - val_loss: 23700.8496 - val_mse: 1029611776.0000\n",
      "Epoch 43/100\n",
      "72/72 [==============================] - 2s 33ms/step - loss: 24832.6445 - mse: 1647975936.0000 - val_loss: 23613.7051 - val_mse: 1014070272.0000\n",
      "Epoch 44/100\n",
      "72/72 [==============================] - 2s 33ms/step - loss: 24651.6211 - mse: 1620012800.0000 - val_loss: 23434.1582 - val_mse: 1034547072.0000\n",
      "Epoch 45/100\n",
      "72/72 [==============================] - 2s 31ms/step - loss: 24522.9160 - mse: 1623654912.0000 - val_loss: 23364.7949 - val_mse: 1012598656.0000\n",
      "Epoch 46/100\n",
      "72/72 [==============================] - 2s 33ms/step - loss: 24372.3340 - mse: 1606236416.0000 - val_loss: 23278.9590 - val_mse: 999949312.0000\n",
      "Epoch 47/100\n",
      "72/72 [==============================] - 2s 31ms/step - loss: 24229.4668 - mse: 1590263552.0000 - val_loss: 23170.3008 - val_mse: 1003691520.0000\n",
      "Epoch 48/100\n",
      "72/72 [==============================] - 2s 34ms/step - loss: 24087.0176 - mse: 1584282368.0000 - val_loss: 23089.8164 - val_mse: 997472576.0000\n",
      "Epoch 49/100\n",
      "72/72 [==============================] - 3s 35ms/step - loss: 23962.0215 - mse: 1581616640.0000 - val_loss: 23012.7305 - val_mse: 987242880.0000\n",
      "Epoch 50/100\n",
      "72/72 [==============================] - 3s 37ms/step - loss: 23843.3418 - mse: 1574284288.0000 - val_loss: 22950.9277 - val_mse: 981451328.0000\n",
      "Epoch 51/100\n",
      "72/72 [==============================] - 3s 41ms/step - loss: 23718.2168 - mse: 1546056704.0000 - val_loss: 22846.6660 - val_mse: 1004149568.0000\n",
      "Epoch 52/100\n",
      "72/72 [==============================] - 3s 42ms/step - loss: 23632.6973 - mse: 1561816576.0000 - val_loss: 22781.0332 - val_mse: 981620672.0000\n",
      "Epoch 53/100\n",
      "72/72 [==============================] - 3s 43ms/step - loss: 23518.3242 - mse: 1541137024.0000 - val_loss: 22710.6895 - val_mse: 983195584.0000\n",
      "Epoch 54/100\n",
      "72/72 [==============================] - 3s 40ms/step - loss: 23442.0059 - mse: 1535779968.0000 - val_loss: 22694.3242 - val_mse: 991156864.0000\n",
      "Epoch 55/100\n",
      "72/72 [==============================] - 3s 45ms/step - loss: 23357.5469 - mse: 1528900608.0000 - val_loss: 22656.1836 - val_mse: 984898240.0000\n",
      "Epoch 56/100\n",
      "72/72 [==============================] - 3s 43ms/step - loss: 23236.9824 - mse: 1522345600.0000 - val_loss: 22657.2949 - val_mse: 959798464.0000\n",
      "Epoch 57/100\n",
      "72/72 [==============================] - 3s 39ms/step - loss: 23160.3457 - mse: 1502833408.0000 - val_loss: 22538.4727 - val_mse: 975545856.0000\n",
      "Epoch 58/100\n",
      "72/72 [==============================] - 3s 37ms/step - loss: 23065.2461 - mse: 1514447488.0000 - val_loss: 22550.2734 - val_mse: 953728768.0000\n",
      "Epoch 59/100\n",
      "72/72 [==============================] - 3s 44ms/step - loss: 22995.0684 - mse: 1501018240.0000 - val_loss: 22486.7695 - val_mse: 964413824.0000\n",
      "Epoch 60/100\n",
      "72/72 [==============================] - 3s 43ms/step - loss: 22902.7266 - mse: 1492116480.0000 - val_loss: 22439.8086 - val_mse: 962648320.0000\n",
      "Epoch 61/100\n",
      "72/72 [==============================] - 3s 41ms/step - loss: 22796.5234 - mse: 1496990848.0000 - val_loss: 22449.3828 - val_mse: 947849600.0000\n",
      "Epoch 62/100\n",
      "72/72 [==============================] - 3s 39ms/step - loss: 22790.8477 - mse: 1478691072.0000 - val_loss: 22380.0801 - val_mse: 954845696.0000\n",
      "Epoch 63/100\n",
      "72/72 [==============================] - 4s 54ms/step - loss: 22683.5547 - mse: 1480592640.0000 - val_loss: 22362.4395 - val_mse: 963965376.0000\n",
      "Epoch 64/100\n",
      "72/72 [==============================] - 3s 45ms/step - loss: 22562.4766 - mse: 1475877888.0000 - val_loss: 22370.7031 - val_mse: 940986560.0000\n",
      "Epoch 65/100\n",
      "72/72 [==============================] - 3s 46ms/step - loss: 22533.1895 - mse: 1463368832.0000 - val_loss: 22316.6406 - val_mse: 950047616.0000\n",
      "Epoch 66/100\n",
      "72/72 [==============================] - 3s 44ms/step - loss: 22465.0430 - mse: 1466907136.0000 - val_loss: 22301.0371 - val_mse: 949019840.0000\n",
      "Epoch 67/100\n",
      "72/72 [==============================] - 3s 41ms/step - loss: 22410.0703 - mse: 1457205120.0000 - val_loss: 22303.9414 - val_mse: 960591616.0000\n",
      "Epoch 68/100\n",
      "72/72 [==============================] - 3s 41ms/step - loss: 22345.2188 - mse: 1457998848.0000 - val_loss: 22260.9141 - val_mse: 936052992.0000\n",
      "Epoch 69/100\n",
      "72/72 [==============================] - 2s 32ms/step - loss: 22295.3184 - mse: 1445974016.0000 - val_loss: 22264.8086 - val_mse: 951177216.0000\n",
      "Epoch 70/100\n",
      "72/72 [==============================] - 2s 33ms/step - loss: 22227.2344 - mse: 1447686528.0000 - val_loss: 22217.3438 - val_mse: 941042432.0000\n",
      "Epoch 71/100\n",
      "72/72 [==============================] - 2s 33ms/step - loss: 22172.7559 - mse: 1441561216.0000 - val_loss: 22225.3086 - val_mse: 947522048.0000\n",
      "Epoch 72/100\n",
      "72/72 [==============================] - 2s 31ms/step - loss: 22125.2695 - mse: 1437183104.0000 - val_loss: 22194.5449 - val_mse: 929418240.0000\n",
      "Epoch 73/100\n",
      "72/72 [==============================] - 2s 31ms/step - loss: 22077.4043 - mse: 1432552320.0000 - val_loss: 22197.8535 - val_mse: 948328512.0000\n",
      "Epoch 74/100\n",
      "72/72 [==============================] - 2s 31ms/step - loss: 22018.5625 - mse: 1426825728.0000 - val_loss: 22145.9688 - val_mse: 941504640.0000\n",
      "Epoch 75/100\n",
      "72/72 [==============================] - 3s 41ms/step - loss: 21965.0059 - mse: 1425112576.0000 - val_loss: 22115.5449 - val_mse: 931320384.0000\n",
      "Epoch 76/100\n",
      "72/72 [==============================] - 2s 33ms/step - loss: 21902.8398 - mse: 1416598528.0000 - val_loss: 22096.9395 - val_mse: 928308416.0000\n",
      "Epoch 77/100\n",
      "72/72 [==============================] - 3s 36ms/step - loss: 21906.3828 - mse: 1414287744.0000 - val_loss: 22096.3457 - val_mse: 935179968.0000\n",
      "Epoch 78/100\n",
      "72/72 [==============================] - 3s 35ms/step - loss: 21816.1777 - mse: 1406333952.0000 - val_loss: 22036.3125 - val_mse: 926716352.0000\n",
      "Epoch 79/100\n",
      "72/72 [==============================] - 3s 37ms/step - loss: 21776.9570 - mse: 1407009920.0000 - val_loss: 22036.3301 - val_mse: 923383296.0000\n",
      "Epoch 80/100\n",
      "72/72 [==============================] - 3s 36ms/step - loss: 21742.5820 - mse: 1400648192.0000 - val_loss: 21997.3203 - val_mse: 922948288.0000\n",
      "Epoch 81/100\n",
      "72/72 [==============================] - 2s 33ms/step - loss: 21692.3691 - mse: 1397050496.0000 - val_loss: 22059.6582 - val_mse: 935510336.0000\n",
      "Epoch 82/100\n",
      "72/72 [==============================] - 2s 30ms/step - loss: 21648.1270 - mse: 1399364096.0000 - val_loss: 21970.2168 - val_mse: 924465344.0000\n",
      "Epoch 83/100\n",
      "72/72 [==============================] - 2s 31ms/step - loss: 21603.2656 - mse: 1389232512.0000 - val_loss: 21990.0762 - val_mse: 926003904.0000\n",
      "Epoch 84/100\n",
      "72/72 [==============================] - 2s 31ms/step - loss: 21558.2148 - mse: 1388942208.0000 - val_loss: 21972.0312 - val_mse: 923594496.0000\n",
      "Epoch 85/100\n",
      "72/72 [==============================] - 2s 29ms/step - loss: 21524.0703 - mse: 1385718528.0000 - val_loss: 21936.3574 - val_mse: 921385664.0000\n",
      "Epoch 86/100\n",
      "72/72 [==============================] - 2s 34ms/step - loss: 21475.6211 - mse: 1379916928.0000 - val_loss: 22061.9688 - val_mse: 934197312.0000\n",
      "Epoch 87/100\n",
      "72/72 [==============================] - 2s 32ms/step - loss: 21453.6816 - mse: 1377432576.0000 - val_loss: 21907.0879 - val_mse: 913138048.0000\n",
      "Epoch 88/100\n",
      "72/72 [==============================] - 2s 34ms/step - loss: 21410.2480 - mse: 1370524032.0000 - val_loss: 21979.1777 - val_mse: 927252288.0000\n",
      "Epoch 89/100\n",
      "72/72 [==============================] - 2s 32ms/step - loss: 21376.1348 - mse: 1369956096.0000 - val_loss: 21907.2129 - val_mse: 916713472.0000\n",
      "Epoch 90/100\n",
      "72/72 [==============================] - 2s 31ms/step - loss: 21322.2188 - mse: 1368753536.0000 - val_loss: 21858.7051 - val_mse: 902602496.0000\n",
      "Epoch 91/100\n",
      "72/72 [==============================] - 2s 33ms/step - loss: 21294.3574 - mse: 1357641728.0000 - val_loss: 21958.3457 - val_mse: 921445952.0000\n",
      "Epoch 92/100\n",
      "72/72 [==============================] - 2s 32ms/step - loss: 21287.5469 - mse: 1361205248.0000 - val_loss: 21887.0039 - val_mse: 912606400.0000\n",
      "Epoch 93/100\n",
      "72/72 [==============================] - 2s 31ms/step - loss: 21255.0840 - mse: 1358402176.0000 - val_loss: 21860.6133 - val_mse: 906911808.0000\n",
      "Epoch 94/100\n",
      "72/72 [==============================] - 2s 32ms/step - loss: 21252.7090 - mse: 1351542528.0000 - val_loss: 21959.3770 - val_mse: 919943680.0000\n",
      "Epoch 95/100\n",
      "72/72 [==============================] - 2s 29ms/step - loss: 21178.4219 - mse: 1353358592.0000 - val_loss: 21879.9980 - val_mse: 907280128.0000\n",
      "Epoch 96/100\n",
      "72/72 [==============================] - 2s 31ms/step - loss: 21153.2031 - mse: 1348180096.0000 - val_loss: 22125.8574 - val_mse: 934590784.0000\n",
      "Epoch 97/100\n",
      "72/72 [==============================] - 2s 33ms/step - loss: 21135.1953 - mse: 1346456960.0000 - val_loss: 21872.7441 - val_mse: 912039936.0000\n",
      "Epoch 98/100\n",
      "72/72 [==============================] - 2s 32ms/step - loss: 21098.3281 - mse: 1345912832.0000 - val_loss: 21789.4258 - val_mse: 898601600.0000\n",
      "Epoch 99/100\n",
      "72/72 [==============================] - 2s 32ms/step - loss: 21095.9141 - mse: 1341282688.0000 - val_loss: 21810.6113 - val_mse: 901279296.0000\n",
      "Epoch 100/100\n",
      "72/72 [==============================] - 2s 30ms/step - loss: 21073.1523 - mse: 1342712064.0000 - val_loss: 21808.2461 - val_mse: 901696448.0000\n"
     ]
    }
   ],
   "source": [
    "# Fit model\n",
    "tf.config.run_functions_eagerly(True)\n",
    "\n",
    "history = model.fit(X_train, y_train, epochs=100, batch_size=16,  verbose=1, validation_data=(X_val, y_val))"
   ]
  },
  {
   "cell_type": "code",
   "execution_count": 45,
   "metadata": {},
   "outputs": [
    {
     "data": {
      "image/png": "[encoded data removed]",
      "text/plain": [
       "<Figure size 1200x800 with 1 Axes>"
      ]
     },
     "metadata": {},
     "output_type": "display_data"
    }
   ],
   "source": [
    "# RMSE Loss\n",
    "plt.figure(figsize=(12,8))\n",
    "plt.plot(history.history['loss'])\n",
    "plt.plot(history.history['val_loss'])\n",
    "plt.title('Model Loss')\n",
    "plt.ylabel('loss')\n",
    "plt.xlabel('epoch')\n",
    "plt.legend(['train', 'val'], loc='upper right')\n",
    "plt.show()"
   ]
  },
  {
   "cell_type": "code",
   "execution_count": 46,
   "metadata": {},
   "outputs": [],
   "source": [
    "# Tune Model\n",
    "\n",
    "def build_model(hp):\n",
    "    model = keras.Sequential()\n",
    "    for i in range(hp.Int('num_layers', 2, 5)):\n",
    "        model.add(Dense(units=hp.Int('units_' + str(i),\n",
    "                                     min_value=16,\n",
    "                                     max_value=64,\n",
    "                                     step=16),\n",
    "                        activation='relu'))\n",
    "       \n",
    "        # drop_rate = hp.Choice('drop_rate_' + str(i), [0.0, 0.1, 0.2,0.3])\n",
    "        # model.add(Dropout(rate=drop_rate))\n",
    "    #model.add(Dense(1, activation='linear'))\n",
    "    model.add(Dense(1))\n",
    "    \n",
    "    model.compile(\n",
    "        optimizer=keras.optimizers.Adam(\n",
    "            hp.Choice('learning_rate', [1e-2, 1e-3, 1e-4])),\n",
    "        loss=root_mean_squared_error,\n",
    "        metrics=['mse'])\n",
    "    return model"
   ]
  },
  {
   "cell_type": "code",
   "execution_count": 47,
   "metadata": {},
   "outputs": [],
   "source": [
    "# tune NN\n",
    "\n",
    "def nn_tunner(build_model):\n",
    "  # Instantiate model tuner\n",
    "  tuner = kt.RandomSearch(\n",
    "      build_model,\n",
    "      objective='mse',\n",
    "      max_trials=10,\n",
    "      seed = 42,\n",
    "      directory = 'tuner')\n",
    "\n",
    "  # Search summary\n",
    "  print('\\n############')\n",
    "  print('\\nTuning Summary')\n",
    "  print(tuner.search_space_summary())\n",
    "\n",
    "  # Initialize search space\n",
    "  print('\\n############')\n",
    "  print('\\nTuning Model')\n",
    "  tuner.search(X_train, y_train,\n",
    "              epochs=100,\n",
    "              validation_data=(X_val, y_val))\n",
    "  \n",
    "  return tuner"
   ]
  },
  {
   "cell_type": "code",
   "execution_count": 48,
   "metadata": {},
   "outputs": [
    {
     "name": "stdout",
     "output_type": "stream",
     "text": [
      "INFO:tensorflow:Reloading Tuner from tuner\\untitled_project\\tuner0.json\n",
      "\n",
      "############\n",
      "\n",
      "Tuning Summary\n",
      "Search space summary\n",
      "Default search space size: 7\n",
      "num_layers (Int)\n",
      "{'default': None, 'conditions': [], 'min_value': 2, 'max_value': 5, 'step': 1, 'sampling': 'linear'}\n",
      "units_0 (Int)\n",
      "{'default': None, 'conditions': [], 'min_value': 16, 'max_value': 64, 'step': 16, 'sampling': 'linear'}\n",
      "units_1 (Int)\n",
      "{'default': None, 'conditions': [], 'min_value': 16, 'max_value': 64, 'step': 16, 'sampling': 'linear'}\n",
      "learning_rate (Choice)\n",
      "{'default': 0.01, 'conditions': [], 'values': [0.01, 0.001, 0.0001], 'ordered': True}\n",
      "units_2 (Int)\n",
      "{'default': None, 'conditions': [], 'min_value': 16, 'max_value': 64, 'step': 16, 'sampling': 'linear'}\n",
      "units_3 (Int)\n",
      "{'default': None, 'conditions': [], 'min_value': 16, 'max_value': 64, 'step': 16, 'sampling': 'linear'}\n",
      "units_4 (Int)\n",
      "{'default': None, 'conditions': [], 'min_value': 16, 'max_value': 64, 'step': 16, 'sampling': 'linear'}\n",
      "None\n",
      "\n",
      "############\n",
      "\n",
      "Tuning Model\n",
      "INFO:tensorflow:Oracle triggered exit\n"
     ]
    }
   ],
   "source": [
    "tuner = nn_tunner(build_model)"
   ]
  },
  {
   "cell_type": "code",
   "execution_count": 49,
   "metadata": {},
   "outputs": [
    {
     "name": "stdout",
     "output_type": "stream",
     "text": [
      "Results summary\n",
      "Results in tuner\\untitled_project\n",
      "Showing 10 best trials\n",
      "Objective(name=\"mse\", direction=\"min\")\n",
      "\n",
      "Trial 002 summary\n",
      "Hyperparameters:\n",
      "num_layers: 5\n",
      "units_0: 48\n",
      "units_1: 64\n",
      "learning_rate: 0.01\n",
      "units_2: 64\n",
      "units_3: 16\n",
      "units_4: 48\n",
      "Score: 827454400.0\n",
      "\n",
      "Trial 071 summary\n",
      "Hyperparameters:\n",
      "num_layers: 5\n",
      "units_0: 64\n",
      "units_1: 48\n",
      "learning_rate: 0.01\n",
      "units_2: 32\n",
      "units_3: 48\n",
      "units_4: 16\n",
      "Score: 833642560.0\n",
      "\n",
      "Trial 085 summary\n",
      "Hyperparameters:\n",
      "num_layers: 5\n",
      "units_0: 48\n",
      "units_1: 32\n",
      "learning_rate: 0.01\n",
      "units_2: 16\n",
      "units_3: 16\n",
      "units_4: 48\n",
      "Score: 838907776.0\n",
      "\n",
      "Trial 051 summary\n",
      "Hyperparameters:\n",
      "num_layers: 5\n",
      "units_0: 16\n",
      "units_1: 16\n",
      "learning_rate: 0.01\n",
      "units_2: 64\n",
      "units_3: 32\n",
      "units_4: 64\n",
      "Score: 840154368.0\n",
      "\n",
      "Trial 064 summary\n",
      "Hyperparameters:\n",
      "num_layers: 5\n",
      "units_0: 48\n",
      "units_1: 48\n",
      "learning_rate: 0.01\n",
      "units_2: 32\n",
      "units_3: 16\n",
      "units_4: 64\n",
      "Score: 854211136.0\n",
      "\n",
      "Trial 072 summary\n",
      "Hyperparameters:\n",
      "num_layers: 4\n",
      "units_0: 16\n",
      "units_1: 64\n",
      "learning_rate: 0.01\n",
      "units_2: 64\n",
      "units_3: 48\n",
      "units_4: 48\n",
      "Score: 868879744.0\n",
      "\n",
      "Trial 001 summary\n",
      "Hyperparameters:\n",
      "num_layers: 5\n",
      "units_0: 32\n",
      "units_1: 48\n",
      "learning_rate: 0.01\n",
      "units_2: 32\n",
      "units_3: 16\n",
      "units_4: 16\n",
      "Score: 869206464.0\n",
      "\n",
      "Trial 015 summary\n",
      "Hyperparameters:\n",
      "num_layers: 5\n",
      "units_0: 32\n",
      "units_1: 64\n",
      "learning_rate: 0.01\n",
      "units_2: 48\n",
      "units_3: 32\n",
      "units_4: 16\n",
      "Score: 872533696.0\n",
      "\n",
      "Trial 038 summary\n",
      "Hyperparameters:\n",
      "num_layers: 5\n",
      "units_0: 48\n",
      "units_1: 48\n",
      "learning_rate: 0.01\n",
      "units_2: 32\n",
      "units_3: 16\n",
      "units_4: 32\n",
      "Score: 874649216.0\n",
      "\n",
      "Trial 080 summary\n",
      "Hyperparameters:\n",
      "num_layers: 5\n",
      "units_0: 32\n",
      "units_1: 32\n",
      "learning_rate: 0.01\n",
      "units_2: 16\n",
      "units_3: 48\n",
      "units_4: 32\n",
      "Score: 875596800.0\n"
     ]
    }
   ],
   "source": [
    "tuner.results_summary()"
   ]
  },
  {
   "cell_type": "code",
   "execution_count": 50,
   "metadata": {},
   "outputs": [],
   "source": [
    "best_model = tuner.get_best_models(num_models=1)[0]"
   ]
  },
  {
   "cell_type": "code",
   "execution_count": 51,
   "metadata": {},
   "outputs": [
    {
     "data": {
      "text/plain": [
       "{'num_layers': 5,\n",
       " 'units_0': 48,\n",
       " 'units_1': 64,\n",
       " 'learning_rate': 0.01,\n",
       " 'units_2': 64,\n",
       " 'units_3': 16,\n",
       " 'units_4': 48}"
      ]
     },
     "execution_count": 51,
     "metadata": {},
     "output_type": "execute_result"
    }
   ],
   "source": [
    "# Tuned hyperparameters\n",
    "tuner.get_best_hyperparameters()[0].values"
   ]
  },
  {
   "cell_type": "code",
   "execution_count": 52,
   "metadata": {},
   "outputs": [
    {
     "name": "stdout",
     "output_type": "stream",
     "text": [
      "Model: \"sequential\"\n",
      "_________________________________________________________________\n",
      " Layer (type)                Output Shape              Param #   \n",
      "=================================================================\n",
      " module_wrapper (ModuleWrap  (1143, 48)                8736      \n",
      " per)                                                            \n",
      "                                                                 \n",
      " module_wrapper_1 (ModuleWr  (1143, 64)                3136      \n",
      " apper)                                                          \n",
      "                                                                 \n",
      " module_wrapper_2 (ModuleWr  (1143, 64)                4160      \n",
      " apper)                                                          \n",
      "                                                                 \n",
      " module_wrapper_3 (ModuleWr  (1143, 16)                1040      \n",
      " apper)                                                          \n",
      "                                                                 \n",
      " module_wrapper_4 (ModuleWr  (1143, 48)                816       \n",
      " apper)                                                          \n",
      "                                                                 \n",
      " module_wrapper_5 (ModuleWr  (1143, 1)                 49        \n",
      " apper)                                                          \n",
      "                                                                 \n",
      "=================================================================\n",
      "Total params: 17937 (70.07 KB)\n",
      "Trainable params: 17937 (70.07 KB)\n",
      "Non-trainable params: 0 (0.00 Byte)\n",
      "_________________________________________________________________\n"
     ]
    }
   ],
   "source": [
    "best_model.build(X_train.shape)\n",
    "best_model.summary()"
   ]
  },
  {
   "cell_type": "code",
   "execution_count": 53,
   "metadata": {},
   "outputs": [
    {
     "data": {
      "text/plain": [
       "array([[0.71794872, 0.0129118 , 0.        , ..., 0.        , 0.        ,\n",
       "        0.        ],\n",
       "       [0.66666667, 0.03432071, 0.        , ..., 0.        , 0.        ,\n",
       "        1.        ],\n",
       "       [0.46153846, 0.03432071, 0.        , ..., 0.        , 0.        ,\n",
       "        1.        ],\n",
       "       ...,\n",
       "       [0.71794872, 0.01246875, 0.        , ..., 0.        , 0.        ,\n",
       "        1.        ],\n",
       "       [0.82051282, 0.08566727, 0.        , ..., 0.        , 0.        ,\n",
       "        0.        ],\n",
       "       [0.84615385, 0.03432071, 0.11538462, ..., 0.        , 0.        ,\n",
       "        0.        ]])"
      ]
     },
     "execution_count": 53,
     "metadata": {},
     "output_type": "execute_result"
    }
   ],
   "source": [
    "X_val"
   ]
  },
  {
   "cell_type": "code",
   "execution_count": 54,
   "metadata": {},
   "outputs": [
    {
     "name": "stdout",
     "output_type": "stream",
     "text": [
      "5/5 [==============================] - 0s 6ms/step\n"
     ]
    },
    {
     "data": {
      "text/plain": [
       "26598.85400699942"
      ]
     },
     "execution_count": 54,
     "metadata": {},
     "output_type": "execute_result"
    }
   ],
   "source": [
    "# RMSE of tuned model\n",
    "y_hat = best_model.predict(X_val)\n",
    "rmse(y_val, y_hat)"
   ]
  },
  {
   "cell_type": "code",
   "execution_count": 69,
   "metadata": {},
   "outputs": [],
   "source": [
    "from sklearn.model_selection import GridSearchCV\n",
    "from sklearn.ensemble import RandomForestRegressor, GradientBoostingRegressor\n",
    "\n",
    "rf = RandomForestRegressor(random_state=2020)\n",
    "\n",
    "# Generate tuning parameters\n",
    "n_estimators = np.arange(200,1000,200)\n",
    "max_depth = np.arange(2,int(X_train.shape[1]/10) ,3)\n",
    "min_samples_split = np.arange(2,5,1)\n",
    "min_samples_leaf = np.arange(2,5,1)\n",
    "\n",
    "rf_params = dict(n_estimators = n_estimators,  \n",
    "               min_samples_split = min_samples_split, \n",
    "               max_depth = max_depth,\n",
    "               min_samples_leaf = min_samples_leaf)\n",
    "\n",
    "# Instantiate grid search with RMSE as scoring\n",
    "rf_grid = GridSearchCV(rf, param_grid=rf_params, cv = 3, verbose = 1, n_jobs = -1, scoring='neg_root_mean_squared_error')"
   ]
  },
  {
   "cell_type": "code",
   "execution_count": 70,
   "metadata": {},
   "outputs": [
    {
     "name": "stdout",
     "output_type": "stream",
     "text": [
      "Fitting 3 folds for each of 216 candidates, totalling 648 fits\n"
     ]
    }
   ],
   "source": [
    "rf_tuned = rf_grid.fit(X_train, y_train)"
   ]
  },
  {
   "cell_type": "code",
   "execution_count": 71,
   "metadata": {},
   "outputs": [
    {
     "data": {
      "text/plain": [
       "{'max_depth': 14,\n",
       " 'min_samples_leaf': 2,\n",
       " 'min_samples_split': 2,\n",
       " 'n_estimators': 800}"
      ]
     },
     "execution_count": 71,
     "metadata": {},
     "output_type": "execute_result"
    }
   ],
   "source": [
    "rf_tuned.best_params_"
   ]
  },
  {
   "cell_type": "code",
   "execution_count": 72,
   "metadata": {},
   "outputs": [
    {
     "data": {
      "text/plain": [
       "35457.579620137956"
      ]
     },
     "execution_count": 72,
     "metadata": {},
     "output_type": "execute_result"
    }
   ],
   "source": [
    "# average RMSE in cross validation\n",
    "-np.nanmean(rf_grid.cv_results_['mean_test_score'])"
   ]
  },
  {
   "cell_type": "code",
   "execution_count": 73,
   "metadata": {},
   "outputs": [
    {
     "data": {
      "text/plain": [
       "23227.82902847417"
      ]
     },
     "execution_count": 73,
     "metadata": {},
     "output_type": "execute_result"
    }
   ],
   "source": [
    "# Calculate RMSE from validation set\n",
    "yhat_val = rf_tuned.best_estimator_.predict(X_val)\n",
    "rmse(y_val, yhat_val)"
   ]
  },
  {
   "cell_type": "code",
   "execution_count": 74,
   "metadata": {},
   "outputs": [
    {
     "data": {
      "text/plain": [
       "['rf.joblib']"
      ]
     },
     "execution_count": 74,
     "metadata": {},
     "output_type": "execute_result"
    }
   ],
   "source": [
    "# export model\n",
    "cls = rf_tuned.best_estimator_\n",
    "joblib.dump(cls, 'rf.joblib')"
   ]
  },
  {
   "cell_type": "code",
   "execution_count": 75,
   "metadata": {},
   "outputs": [
    {
     "data": {
      "text/plain": [
       "array([ 84280.95296417, 119581.95056782,  77097.79326086, 139254.85002627,\n",
       "        60502.11235955,  64019.44629666,  71836.41189768, 101915.45480028,\n",
       "       109319.87488145,  64098.30136134, 126534.56824634, 129226.77055687,\n",
       "       107523.38305918,  83878.16087014, 195670.29513933,  66528.14478049,\n",
       "       104259.42891363, 136474.38718406, 104502.194653  ,  92052.69846093,\n",
       "        22057.96029781, 103626.35551752,  98434.71965682, 160494.93086634,\n",
       "       108367.21486261, 113331.1464673 , 119128.87065206,  71816.23721878,\n",
       "        36367.16527412,  79728.77887288, 184414.88422374, 101587.69778445,\n",
       "        80618.9942991 , 114155.82977765,  48835.62594766, 115476.47324879,\n",
       "       165517.47276933, 117867.86223135,  86339.60933176,  78994.73213486,\n",
       "        55252.51202799,  75633.54513806,  92209.75547974,  90150.55208632,\n",
       "        46830.19611602,  50259.1949278 ,  73488.42190361, 133034.99014159,\n",
       "       100158.93107905, 105368.8287349 , 146798.89248159, 116769.51534373,\n",
       "        63067.05710903,  45424.43092419,  78207.94898853,  52453.62811637,\n",
       "        90661.22122934,  84798.47409423, 103174.40979598, 107545.37028114,\n",
       "        87446.92371296,  79153.94393508,  84962.94400784, 165134.14900399,\n",
       "        70786.75826788,  40724.99128729,  86569.6004536 ,  60198.27196967,\n",
       "        69621.56473625,  83844.92097937, 124841.52126752, 146396.89163113,\n",
       "        88484.03875906,  73228.30684583,  97541.67370088, 129932.23662969,\n",
       "        41222.86008137,  92433.98719469, 162612.16185161,  91756.66719021,\n",
       "        45295.52160372, 186528.18525839,  85989.12587126,  71957.97298311,\n",
       "        62082.23817762,  48399.38591851,  98337.14507049,  71690.61360767,\n",
       "       103010.53294017,  77677.2259696 , 150074.59467372, 114668.52451405,\n",
       "        37566.00564481,  44536.52604343,  55095.53536234, 189361.67355178,\n",
       "       111066.86547069,  90329.10811393, 132768.32605499, 150211.86341468,\n",
       "        32011.54961481, 164386.74288106, 111498.24104317,  65364.34669327,\n",
       "        35953.09259569, 158895.13256767,  73819.65771767,  73298.55055396,\n",
       "       162535.89174841, 120641.24232593,  47568.89017262, 123576.1084506 ,\n",
       "        81167.95518914,  43649.96668003, 104429.13742309,  60707.31798859,\n",
       "       104644.07140923,  83737.06757027,  41380.32685284,  49094.56303553,\n",
       "       143765.95266959,  95771.74415391,  34067.65832758,  78538.98254477,\n",
       "       136620.41262666, 112073.21610843, 137443.30631671, 158394.18452431,\n",
       "        33108.16929074,  55066.63303423,  97597.39151469,  31711.46087763,\n",
       "        40301.58794819,  87664.02570902,  53991.28018178,  52116.70918502,\n",
       "        78952.18759791,  61560.71330165, 134750.22649685,  77015.41362496,\n",
       "        66961.98456707,  95819.13033413,  74820.55473388])"
      ]
     },
     "execution_count": 75,
     "metadata": {},
     "output_type": "execute_result"
    }
   ],
   "source": [
    "nn_best_model = joblib.load('rf.joblib')\n",
    "predictions = nn_best_model.predict(X_val)\n",
    "predictions"
   ]
  }
 ],
 "metadata": {
  "kernelspec": {
   "display_name": "Python 3",
   "language": "python",
   "name": "python3"
  },
  "language_info": {
   "codemirror_mode": {
    "name": "ipython",
    "version": 3
   },
   "file_extension": ".py",
   "mimetype": "text/x-python",
   "name": "python",
   "nbconvert_exporter": "python",
   "pygments_lexer": "ipython3",
   "version": "3.11.0"
  },
  "orig_nbformat": 4
 },
 "nbformat": 4,
 "nbformat_minor": 2
}
