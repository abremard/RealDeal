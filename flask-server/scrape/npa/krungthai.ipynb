{
 "cells": [
  {
   "cell_type": "code",
   "execution_count": 2,
   "metadata": {},
   "outputs": [
    {
     "name": "stderr",
     "output_type": "stream",
     "text": [
      "c:\\Python311\\Lib\\site-packages\\urllib3\\connectionpool.py:1045: InsecureRequestWarning: Unverified HTTPS request is being made to host 'npa.krungthai.com'. Adding certificate verification is strongly advised. See: https://urllib3.readthedocs.io/en/1.26.x/advanced-usage.html#ssl-warnings\n",
      "  warnings.warn(\n"
     ]
    },
    {
     "name": "stdout",
     "output_type": "stream",
     "text": [
      "<Response [200]>\n"
     ]
    }
   ],
   "source": [
    "from bs4 import BeautifulSoup\n",
    "import requests\n",
    "\n",
    "base_url = 'https://npa.krungthai.com/api/v1'\n",
    "url = base_url + '/product/searchAll'\n",
    "\n",
    "payload = {\n",
    "    \"priceRangeMax\": \"20000000\",\n",
    "    \"priceRangeMin\": \"10000\",\n",
    "    \"shrProvince\": \"10\",\n",
    "    \"typeProp\": [\n",
    "        \"11\"\n",
    "    ],\n",
    "    \"paging\": {\n",
    "        \"totalRows\": 0,\n",
    "        \"rowsPerPage\": 150,\n",
    "        \"currentPage\": 1\n",
    "    }\n",
    "}\n",
    "\n",
    "reqs = requests.post(url, verify=False, json=payload)\n",
    "print(reqs)"
   ]
  },
  {
   "cell_type": "code",
   "execution_count": 1,
   "metadata": {},
   "outputs": [
    {
     "ename": "NameError",
     "evalue": "name 'reqs' is not defined",
     "output_type": "error",
     "traceback": [
      "\u001b[1;31m---------------------------------------------------------------------------\u001b[0m",
      "\u001b[1;31mNameError\u001b[0m                                 Traceback (most recent call last)",
      "\u001b[1;32md:\\src\\realdeal\\RealDeal\\flask-server\\scrape\\npa\\krungthai.ipynb Cell 2\u001b[0m line \u001b[0;36m3\n\u001b[0;32m      <a href='vscode-notebook-cell:/d%3A/src/realdeal/RealDeal/flask-server/scrape/npa/krungthai.ipynb#W1sZmlsZQ%3D%3D?line=0'>1</a>\u001b[0m \u001b[39mimport\u001b[39;00m \u001b[39mpandas\u001b[39;00m \u001b[39mas\u001b[39;00m \u001b[39mpd\u001b[39;00m    \n\u001b[1;32m----> <a href='vscode-notebook-cell:/d%3A/src/realdeal/RealDeal/flask-server/scrape/npa/krungthai.ipynb#W1sZmlsZQ%3D%3D?line=2'>3</a>\u001b[0m df \u001b[39m=\u001b[39m pd\u001b[39m.\u001b[39mjson_normalize(reqs\u001b[39m.\u001b[39mjson()[\u001b[39m'\u001b[39m\u001b[39mdataResponse\u001b[39m\u001b[39m'\u001b[39m])\n\u001b[0;32m      <a href='vscode-notebook-cell:/d%3A/src/realdeal/RealDeal/flask-server/scrape/npa/krungthai.ipynb#W1sZmlsZQ%3D%3D?line=3'>4</a>\u001b[0m \u001b[39mprint\u001b[39m(df)\n\u001b[0;32m      <a href='vscode-notebook-cell:/d%3A/src/realdeal/RealDeal/flask-server/scrape/npa/krungthai.ipynb#W1sZmlsZQ%3D%3D?line=5'>6</a>\u001b[0m df\u001b[39m.\u001b[39mto_csv(\u001b[39m\"\u001b[39m\u001b[39m../../dataset/npa/krungthai.csv\u001b[39m\u001b[39m\"\u001b[39m)\n",
      "\u001b[1;31mNameError\u001b[0m: name 'reqs' is not defined"
     ]
    }
   ],
   "source": [
    "import pandas as pd    \n",
    "\n",
    "df = pd.json_normalize(reqs.json()['dataResponse'])\n",
    "print(df)\n",
    "\n",
    "df.to_csv(\"../../dataset/npa/krungthai.csv\")"
   ]
  },
  {
   "cell_type": "code",
   "execution_count": 32,
   "metadata": {},
   "outputs": [],
   "source": [
    "from datetime import datetime\n",
    "import json\n",
    "\n",
    "df = pd.read_csv(\"../../dataset/npa/krungthai.csv\")\n",
    "# for index, row in df.iterrows():\n",
    "#     formatted_prices = [{\n",
    "#         \"date\": datetime.today().strftime('%Y-%m-%d'), \"price\": float(row['priceNumber'])\n",
    "#     }]\n",
    "#     for rawprice in json.loads(row['shrPriceVos'].replace(\"\\'\", \"\\\"\")):\n",
    "#         formatted_price = {\"date\": rawprice['year']+\"-01-01\", \"price\": float(rawprice['price'])}\n",
    "#         formatted_prices.append(formatted_price)\n",
    "#     df.at[index,'shrPriceVos'] = json.dumps(formatted_prices)\n",
    "\n",
    "\n",
    "# df.to_csv(\"../../dataset/npa/krungthai.csv\")\n",
    "\n",
    "# Image can be sent using a string from \"fileName\" column\n",
    "# Example : https://npa.krungthai.com/image/product/305645202304261550136509.jpg"
   ]
  },
  {
   "cell_type": "code",
   "execution_count": 34,
   "metadata": {},
   "outputs": [],
   "source": [
    "df = pd.read_csv(\"../../dataset/npa/krungthai.csv\")\n",
    "df.to_csv(f\"../../dataset/npa/krungthai_{datetime.today().strftime('%Y-%m-%d')}.csv\")"
   ]
  }
 ],
 "metadata": {
  "kernelspec": {
   "display_name": "Python 3",
   "language": "python",
   "name": "python3"
  },
  "language_info": {
   "codemirror_mode": {
    "name": "ipython",
    "version": 3
   },
   "file_extension": ".py",
   "mimetype": "text/x-python",
   "name": "python",
   "nbconvert_exporter": "python",
   "pygments_lexer": "ipython3",
   "version": "3.11.0"
  }
 },
 "nbformat": 4,
 "nbformat_minor": 2
}
