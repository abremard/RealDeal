{
 "cells": [
  {
   "cell_type": "code",
   "execution_count": null,
   "metadata": {},
   "outputs": [],
   "source": [
    "from bs4 import BeautifulSoup\n",
    "import requests\n",
    "\n",
    "base_url = 'https://npa.krungthai.com/api/v1'\n",
    "url = base_url + '/product/searchAll'\n",
    "\n",
    "payload = {\n",
    "    \"priceRangeMax\": \"20000000\",\n",
    "    \"priceRangeMin\": \"10000\",\n",
    "    \"shrProvince\": \"10\",\n",
    "    \"typeProp\": [\n",
    "        \"11\"\n",
    "    ],\n",
    "    \"paging\": {\n",
    "        \"totalRows\": 0,\n",
    "        \"rowsPerPage\": 150,\n",
    "        \"currentPage\": 1\n",
    "    }\n",
    "}\n",
    "\n",
    "reqs = requests.post(url, verify=False, json=payload)\n",
    "print(reqs)"
   ]
  },
  {
   "cell_type": "code",
   "execution_count": null,
   "metadata": {},
   "outputs": [],
   "source": [
    "import pandas as pd    \n",
    "\n",
    "df = pd.json_normalize(reqs.json()['dataResponse'])\n",
    "print(df)\n",
    "\n",
    "df.to_csv(\"../../dataset/npa/krungthai.csv\")"
   ]
  },
  {
   "cell_type": "code",
   "execution_count": null,
   "metadata": {},
   "outputs": [],
   "source": [
    "from datetime import datetime\n",
    "import json\n",
    "\n",
    "df = pd.read_csv(\"../../dataset/npa/krungthai.csv\")\n",
    "# for index, row in df.iterrows():\n",
    "#     formatted_prices = [{\n",
    "#         \"date\": datetime.today().strftime('%Y-%m-%d'), \"price\": float(row['priceNumber'])\n",
    "#     }]\n",
    "#     for rawprice in json.loads(row['shrPriceVos'].replace(\"\\'\", \"\\\"\")):\n",
    "#         formatted_price = {\"date\": rawprice['year']+\"-01-01\", \"price\": float(rawprice['price'])}\n",
    "#         formatted_prices.append(formatted_price)\n",
    "#     df.at[index,'shrPriceVos'] = json.dumps(formatted_prices)\n",
    "\n",
    "\n",
    "# df.to_csv(\"../../dataset/npa/krungthai.csv\")\n",
    "\n",
    "# Image can be sent using a string from \"fileName\" column\n",
    "# Example : https://npa.krungthai.com/image/product/305645202304261550136509.jpg"
   ]
  },
  {
   "cell_type": "code",
   "execution_count": null,
   "metadata": {},
   "outputs": [],
   "source": [
    "df = pd.read_csv(\"../../dataset/npa/krungthai.csv\")\n",
    "df.to_csv(f\"../../dataset/npa/krungthai_{datetime.today().strftime('%Y-%m-%d')}.csv\")"
   ]
  },
  {
   "cell_type": "markdown",
   "metadata": {},
   "source": [
    "# Upsert Database"
   ]
  },
  {
   "cell_type": "code",
   "execution_count": 120,
   "metadata": {},
   "outputs": [],
   "source": [
    "df = pd.json_normalize(reqs.json()['dataResponse'])\n",
    "db_df = pd.read_csv(\"../../dataset/npa/krungthai_2023-11-01.csv\")\n",
    "\n",
    "df.set_index('collGrpId', inplace=True)\n",
    "db_df.set_index('collGrpId', inplace=True)\n",
    "\n",
    "\"\"\"SOLD properties\"\"\"\n",
    "# outer_join_df = db_df.join(df, lsuffix=\"_sold\", how='outer')\n",
    "# print(outer_join_df)\n",
    "\n",
    "# sold_properties = outer_join_df[outer_join_df[\"shrProvinceName\"].isna()]\n",
    "# print(sold_properties)\n",
    "\n",
    "# print(db_df.columns.size)\n",
    "\n",
    "# sold_properties = sold_properties.drop(db_df, axis=1)\n",
    "# print(sold_properties)\n",
    "\n",
    "\"\"\"NEW properties\"\"\"\n",
    "# outer_join_df = db_df.join(df, rsuffix=\"_new\", how='outer')\n",
    "# print(outer_join_df)\n",
    "\n",
    "# sold_properties = outer_join_df[outer_join_df[\"shrProvinceName\"].isna()]\n",
    "# print(sold_properties)\n",
    "\n",
    "# print(db_df.columns.size)\n",
    "\n",
    "# sold_properties = sold_properties.drop(db_df, axis=1)\n",
    "# print(sold_properties)\n",
    "\n",
    "\"\"\"DB UPDATE\"\"\"\n",
    "inner_join_df = db_df.join(df, lsuffix=\"_db\", how='inner')\n",
    "for index, row in inner_join_df.iterrows():\n",
    "    formatted_prices = [{\n",
    "        \"date\": datetime.today().strftime('%Y-%m-%d'), \"price\": float(row['priceNumber'])\n",
    "    }]\n",
    "    for rawprice in json.loads(row['shrPriceVos_db']):\n",
    "        if not rawprice in formatted_prices:\n",
    "            formatted_prices.append(rawprice)\n",
    "    # print(json.dumps(formatted_prices))\n",
    "    # print(row[\"shrPriceVos_db\"])\n",
    "    inner_join_df.at[index,'shrPriceVos'] = json.dumps(formatted_prices)\n",
    "    \n",
    "inner_join_df.to_csv(f\"../../dataset/npa/krungthai_{datetime.today().strftime('%Y-%m-%d')}.csv\")"
   ]
  }
 ],
 "metadata": {
  "kernelspec": {
   "display_name": "Python 3",
   "language": "python",
   "name": "python3"
  },
  "language_info": {
   "codemirror_mode": {
    "name": "ipython",
    "version": 3
   },
   "file_extension": ".py",
   "mimetype": "text/x-python",
   "name": "python",
   "nbconvert_exporter": "python",
   "pygments_lexer": "ipython3",
   "version": "3.11.0"
  }
 },
 "nbformat": 4,
 "nbformat_minor": 2
}
